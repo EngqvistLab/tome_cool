{
 "cells": [
  {
   "cell_type": "code",
   "execution_count": null,
   "metadata": {},
   "outputs": [],
   "source": [
    "import pandas as pd\n",
    "import numpy as np\n",
    "from matplotlib import pyplot as plt\n",
    "from scipy import stats"
   ]
  },
  {
   "cell_type": "code",
   "execution_count": 2,
   "metadata": {},
   "outputs": [],
   "source": [
    "# column 'growth_tmp' is from martin\n",
    "# if nan in Tome 1.0 dataset, \n",
    "# (1) update  record with column 'growth_tmp' \n",
    "# (2) if (1) failed, then use column 'optimum_tmp'\n",
    "# then\n",
    "# (3) correct and update with bowman's data"
   ]
  },
  {
   "cell_type": "markdown",
   "metadata": {},
   "source": [
    "### R2 LG"
   ]
  },
  {
   "cell_type": "code",
   "execution_count": 3,
   "metadata": {},
   "outputs": [],
   "source": [
    "OGTs = dict()\n",
    "dfbac = pd.read_csv('../data/BacDive_parsed.tsv',sep='\\t')\n",
    "for ind in dfbac.index: \n",
    "    OGTs[dfbac.loc[ind,'organism']] = OGTs.get(dfbac.loc[ind,'organism'],[]) + [dfbac.loc[ind,'temperature']]"
   ]
  },
  {
   "cell_type": "code",
   "execution_count": 6,
   "metadata": {},
   "outputs": [
    {
     "name": "stdout",
     "output_type": "stream",
     "text": [
      "(16942, 3)\n",
      "1661\n",
      "14430\n"
     ]
    }
   ],
   "source": [
    "print(dfbac.shape)\n",
    "ogts_lst_multi = [lst for lst in OGTs.values() if len(lst)>1]\n",
    "print(len(ogts_lst_multi))\n",
    "print(len(set(dfbac['organism'])))"
   ]
  },
  {
   "cell_type": "code",
   "execution_count": 13,
   "metadata": {},
   "outputs": [
    {
     "data": {
      "image/png": "[encoded data removed]",
      "text/plain": [
       "<Figure size 288x216 with 1 Axes>"
      ]
     },
     "metadata": {
      "needs_background": "light"
     },
     "output_type": "display_data"
    }
   ],
   "source": [
    "plt.figure(figsize=(4,3))\n",
    "plt.hist([np.std(lst) for lst in ogts_lst_multi],50)\n",
    "plt.ylabel('Count')\n",
    "plt.xlabel('$\\sigma$ ($^\\circ$C)')\n",
    "plt.show()"
   ]
  },
  {
   "cell_type": "code",
   "execution_count": 20,
   "metadata": {},
   "outputs": [
    {
     "name": "stdout",
     "output_type": "stream",
     "text": [
      "organism\tdomain\ttemperature\r\n",
      "Abiotrophia defectiva\tBacteria\t37.0\r\n",
      "Abyssicoccus albus\tBacteria\t28.0\r\n",
      "Abyssivirga alkaniphila\tBacteria\t29.0\r\n",
      "Acanthopleuribacter pedis\tBacteria\t25.0\r\n",
      "Acaricomes phytoseiuli\tBacteria\t25.0\r\n",
      "Acetanaerobacterium elongatum\tBacteria\t31.0\r\n",
      "Acetatifactor muris\tBacteria\t37.0\r\n",
      "Acetitomaculum ruminis\tBacteria\t37.0\r\n",
      "Acetivibrio ethanolgignens\tBacteria\t37.0\r\n"
     ]
    }
   ],
   "source": [
    "!head ../data/BacDive_parsed.tsv"
   ]
  },
  {
   "cell_type": "code",
   "execution_count": 14,
   "metadata": {},
   "outputs": [
    {
     "data": {
      "text/plain": [
       "3.572002355764804"
      ]
     },
     "execution_count": 14,
     "metadata": {},
     "output_type": "execute_result"
    }
   ],
   "source": [
    "12.759200829589311**0.5"
   ]
  },
  {
   "cell_type": "code",
   "execution_count": 17,
   "metadata": {},
   "outputs": [
    {
     "name": "stdout",
     "output_type": "stream",
     "text": [
      "12.759200829589311\n"
     ]
    }
   ],
   "source": [
    "sigma_2_avg = np.average([np.var(lst) for lst in ogts_lst_multi])\n",
    "print(sigma_2_avg)"
   ]
  },
  {
   "cell_type": "code",
   "execution_count": 9,
   "metadata": {},
   "outputs": [
    {
     "name": "stdout",
     "output_type": "stream",
     "text": [
      "55.74048951212985\n"
     ]
    }
   ],
   "source": [
    "sigma_2_db = np.var([np.mean(lst) for lst in ogts_lst_multi])\n",
    "print(sigma_2_db)"
   ]
  },
  {
   "cell_type": "code",
   "execution_count": 10,
   "metadata": {},
   "outputs": [
    {
     "name": "stdout",
     "output_type": "stream",
     "text": [
      "0.7710963620652678\n"
     ]
    }
   ],
   "source": [
    "print(1-sigma_2_avg/sigma_2_db)"
   ]
  },
  {
   "cell_type": "markdown",
   "metadata": {},
   "source": [
    "#### 1. format classified and not classfied dimer frequencies table"
   ]
  },
  {
   "cell_type": "code",
   "execution_count": 3,
   "metadata": {},
   "outputs": [],
   "source": [
    "# classified\n",
    "cfile = '../tome1.0_paper_data/AA_Dip_OGT_strain_classified.csv'\n",
    "\n",
    "# not classified\n",
    "nfile = '../tome1.0_paper_data/Not_classified_With_org_name_After_filter.csv'\n",
    "\n",
    "# manually checked from literatures for those ones in not classified\n",
    "expfile = '../tome1.0_paper_data/selected_for_literature_verification_processed_with_OGT_data.tsv'"
   ]
  },
  {
   "cell_type": "code",
   "execution_count": 5,
   "metadata": {},
   "outputs": [],
   "source": [
    "def clean_index(ind):\n",
    "    # ind = '37_allobaculum_stercoricanis_bacteria'\n",
    "    # out = 'allobaculum_stercoricanis'\n",
    "    out = ''\n",
    "    for item in ind.split('_')[1:-1]: out += '{0}_'.format(item)\n",
    "    return out[:-1]"
   ]
  },
  {
   "cell_type": "code",
   "execution_count": 5,
   "metadata": {},
   "outputs": [],
   "source": [
    "def get_dimers():\n",
    "    amino_acids = 'ACDEFGHIKLMNPQRSTVWY'\n",
    "    print(len(amino_acids))\n",
    "    dimers = []\n",
    "    for a1 in amino_acids:\n",
    "        for a2 in amino_acids: dimers.append(a1+a2)\n",
    "    return dimers"
   ]
  },
  {
   "cell_type": "code",
   "execution_count": 6,
   "metadata": {},
   "outputs": [
    {
     "name": "stdout",
     "output_type": "stream",
     "text": [
      "20\n",
      "(5533, 401)\n"
     ]
    }
   ],
   "source": [
    "# classified data\n",
    "dfc = pd.read_csv(cfile,index_col=0)\n",
    "\n",
    "# remove ogt and domain name\n",
    "dfc.index = [clean_index(ind) for ind in dfc.index]\n",
    "\n",
    "# keep only dimers and ogt\n",
    "features = get_dimers() + ['ogt']\n",
    "dfc = dfc.loc[:,features]\n",
    "print(dfc.shape)"
   ]
  },
  {
   "cell_type": "code",
   "execution_count": 7,
   "metadata": {},
   "outputs": [
    {
     "name": "stdout",
     "output_type": "stream",
     "text": [
      "20\n",
      "(1438, 401)\n"
     ]
    }
   ],
   "source": [
    "# not classified\n",
    "dfn = pd.read_csv(nfile,index_col=0)\n",
    "\n",
    "# add ogt column\n",
    "dfn['ogt'] = [np.nan for ind in dfn.index]\n",
    "\n",
    "# update ogt with experimental data\n",
    "df_exp = pd.read_csv(expfile,index_col=0,sep='\\t')\n",
    "for ind in df_exp.index: dfn.loc[ind,'ogt'] = df_exp.loc[ind,'growth_temperature']\n",
    "\n",
    "# update index by removing domain names\n",
    "'','',''\n",
    "dfn.index = [ind.replace('_archaea','').replace('_bacteria','').replace('_eukaryotes','') for ind in dfn.index]\n",
    "\n",
    "# keep only dimer and ogt\n",
    "features = get_dimers() + ['ogt']\n",
    "dfn = dfn.loc[:,features]\n",
    "print(dfn.shape)"
   ]
  },
  {
   "cell_type": "markdown",
   "metadata": {},
   "source": [
    "#### 2. combine two feature sets as one"
   ]
  },
  {
   "cell_type": "code",
   "execution_count": 8,
   "metadata": {},
   "outputs": [],
   "source": [
    "df = dfc.append(dfn)"
   ]
  },
  {
   "cell_type": "code",
   "execution_count": 9,
   "metadata": {},
   "outputs": [
    {
     "data": {
      "text/plain": [
       "(6971, 401)"
      ]
     },
     "execution_count": 9,
     "metadata": {},
     "output_type": "execute_result"
    }
   ],
   "source": [
    "df.shape"
   ]
  },
  {
   "cell_type": "code",
   "execution_count": 10,
   "metadata": {},
   "outputs": [],
   "source": [
    "df.to_csv('../tome1.0_paper_data/data_from_tome1.0_combined.csv')"
   ]
  },
  {
   "cell_type": "markdown",
   "metadata": {},
   "source": [
    "#### 3. update with martin's data"
   ]
  },
  {
   "cell_type": "code",
   "execution_count": 11,
   "metadata": {},
   "outputs": [
    {
     "name": "stdout",
     "output_type": "stream",
     "text": [
      "(14802, 77)\n"
     ]
    },
    {
     "data": {
      "text/html": [
       "<div>\n",
       "<style scoped>\n",
       "    .dataframe tbody tr th:only-of-type {\n",
       "        vertical-align: middle;\n",
       "    }\n",
       "\n",
       "    .dataframe tbody tr th {\n",
       "        vertical-align: top;\n",
       "    }\n",
       "\n",
       "    .dataframe thead th {\n",
       "        text-align: right;\n",
       "    }\n",
       "</style>\n",
       "<table border=\"1\" class=\"dataframe\">\n",
       "  <thead>\n",
       "    <tr style=\"text-align: right;\">\n",
       "      <th></th>\n",
       "      <th>species_tax_id</th>\n",
       "      <th>genus</th>\n",
       "      <th>family</th>\n",
       "      <th>order</th>\n",
       "      <th>class</th>\n",
       "      <th>phylum</th>\n",
       "      <th>superkingdom</th>\n",
       "      <th>gram_stain</th>\n",
       "      <th>metabolism</th>\n",
       "      <th>sporulation</th>\n",
       "      <th>...</th>\n",
       "      <th>coding_genes.stdev</th>\n",
       "      <th>optimum_tmp.stdev</th>\n",
       "      <th>optimum_ph.stdev</th>\n",
       "      <th>growth_tmp.stdev</th>\n",
       "      <th>rRNA16S_genes.stdev</th>\n",
       "      <th>tRNA_genes.stdev</th>\n",
       "      <th>data_source</th>\n",
       "      <th>ref_id</th>\n",
       "      <th>intracellular</th>\n",
       "      <th>phototroph</th>\n",
       "    </tr>\n",
       "    <tr>\n",
       "      <th>species</th>\n",
       "      <th></th>\n",
       "      <th></th>\n",
       "      <th></th>\n",
       "      <th></th>\n",
       "      <th></th>\n",
       "      <th></th>\n",
       "      <th></th>\n",
       "      <th></th>\n",
       "      <th></th>\n",
       "      <th></th>\n",
       "      <th></th>\n",
       "      <th></th>\n",
       "      <th></th>\n",
       "      <th></th>\n",
       "      <th></th>\n",
       "      <th></th>\n",
       "      <th></th>\n",
       "      <th></th>\n",
       "      <th></th>\n",
       "      <th></th>\n",
       "      <th></th>\n",
       "    </tr>\n",
       "  </thead>\n",
       "  <tbody>\n",
       "    <tr>\n",
       "      <th>Acidipropionibacterium damnosum</th>\n",
       "      <td>1243001</td>\n",
       "      <td>Acidipropionibacterium</td>\n",
       "      <td>Propionibacteriaceae</td>\n",
       "      <td>Propionibacteriales</td>\n",
       "      <td>Actinobacteria</td>\n",
       "      <td>Actinobacteria</td>\n",
       "      <td>Bacteria</td>\n",
       "      <td>NaN</td>\n",
       "      <td>microaerophilic</td>\n",
       "      <td>NaN</td>\n",
       "      <td>...</td>\n",
       "      <td>NaN</td>\n",
       "      <td>NaN</td>\n",
       "      <td>NaN</td>\n",
       "      <td>NaN</td>\n",
       "      <td>NaN</td>\n",
       "      <td>NaN</td>\n",
       "      <td>bacdive-microa</td>\n",
       "      <td>1</td>\n",
       "      <td>NaN</td>\n",
       "      <td>NaN</td>\n",
       "    </tr>\n",
       "    <tr>\n",
       "      <th>Apibacter adventoris</th>\n",
       "      <td>1679466</td>\n",
       "      <td>Apibacter</td>\n",
       "      <td>Flavobacteriaceae</td>\n",
       "      <td>Flavobacteriales</td>\n",
       "      <td>Flavobacteriia</td>\n",
       "      <td>Bacteroidetes</td>\n",
       "      <td>Bacteria</td>\n",
       "      <td>NaN</td>\n",
       "      <td>microaerophilic</td>\n",
       "      <td>NaN</td>\n",
       "      <td>...</td>\n",
       "      <td>NaN</td>\n",
       "      <td>NaN</td>\n",
       "      <td>NaN</td>\n",
       "      <td>NaN</td>\n",
       "      <td>NaN</td>\n",
       "      <td>NaN</td>\n",
       "      <td>bacdive-microa</td>\n",
       "      <td>1</td>\n",
       "      <td>NaN</td>\n",
       "      <td>NaN</td>\n",
       "    </tr>\n",
       "    <tr>\n",
       "      <th>Aquaspirillum soli</th>\n",
       "      <td>1591092</td>\n",
       "      <td>Aquaspirillum</td>\n",
       "      <td>Chromobacteriaceae</td>\n",
       "      <td>Neisseriales</td>\n",
       "      <td>Betaproteobacteria</td>\n",
       "      <td>Proteobacteria</td>\n",
       "      <td>Bacteria</td>\n",
       "      <td>NaN</td>\n",
       "      <td>microaerophilic</td>\n",
       "      <td>NaN</td>\n",
       "      <td>...</td>\n",
       "      <td>NaN</td>\n",
       "      <td>NaN</td>\n",
       "      <td>NaN</td>\n",
       "      <td>NaN</td>\n",
       "      <td>NaN</td>\n",
       "      <td>NaN</td>\n",
       "      <td>bacdive-microa</td>\n",
       "      <td>1</td>\n",
       "      <td>NaN</td>\n",
       "      <td>NaN</td>\n",
       "    </tr>\n",
       "    <tr>\n",
       "      <th>Arcobacter lekithochrous</th>\n",
       "      <td>1904463</td>\n",
       "      <td>Arcobacter</td>\n",
       "      <td>Campylobacteraceae</td>\n",
       "      <td>Campylobacterales</td>\n",
       "      <td>Epsilonproteobacteria</td>\n",
       "      <td>Proteobacteria</td>\n",
       "      <td>Bacteria</td>\n",
       "      <td>NaN</td>\n",
       "      <td>microaerophilic</td>\n",
       "      <td>NaN</td>\n",
       "      <td>...</td>\n",
       "      <td>NaN</td>\n",
       "      <td>NaN</td>\n",
       "      <td>NaN</td>\n",
       "      <td>NaN</td>\n",
       "      <td>NaN</td>\n",
       "      <td>NaN</td>\n",
       "      <td>bacdive-microa</td>\n",
       "      <td>1</td>\n",
       "      <td>NaN</td>\n",
       "      <td>NaN</td>\n",
       "    </tr>\n",
       "    <tr>\n",
       "      <th>Arcobacter porcinus</th>\n",
       "      <td>1935204</td>\n",
       "      <td>Arcobacter</td>\n",
       "      <td>Campylobacteraceae</td>\n",
       "      <td>Campylobacterales</td>\n",
       "      <td>Epsilonproteobacteria</td>\n",
       "      <td>Proteobacteria</td>\n",
       "      <td>Bacteria</td>\n",
       "      <td>NaN</td>\n",
       "      <td>microaerophilic</td>\n",
       "      <td>NaN</td>\n",
       "      <td>...</td>\n",
       "      <td>NaN</td>\n",
       "      <td>NaN</td>\n",
       "      <td>NaN</td>\n",
       "      <td>NaN</td>\n",
       "      <td>NaN</td>\n",
       "      <td>NaN</td>\n",
       "      <td>bacdive-microa</td>\n",
       "      <td>1</td>\n",
       "      <td>NaN</td>\n",
       "      <td>NaN</td>\n",
       "    </tr>\n",
       "  </tbody>\n",
       "</table>\n",
       "<p>5 rows × 77 columns</p>\n",
       "</div>"
      ],
      "text/plain": [
       "                                 species_tax_id                   genus  \\\n",
       "species                                                                   \n",
       "Acidipropionibacterium damnosum         1243001  Acidipropionibacterium   \n",
       "Apibacter adventoris                    1679466               Apibacter   \n",
       "Aquaspirillum soli                      1591092           Aquaspirillum   \n",
       "Arcobacter lekithochrous                1904463              Arcobacter   \n",
       "Arcobacter porcinus                     1935204              Arcobacter   \n",
       "\n",
       "                                               family                order  \\\n",
       "species                                                                      \n",
       "Acidipropionibacterium damnosum  Propionibacteriaceae  Propionibacteriales   \n",
       "Apibacter adventoris                Flavobacteriaceae     Flavobacteriales   \n",
       "Aquaspirillum soli                 Chromobacteriaceae         Neisseriales   \n",
       "Arcobacter lekithochrous           Campylobacteraceae    Campylobacterales   \n",
       "Arcobacter porcinus                Campylobacteraceae    Campylobacterales   \n",
       "\n",
       "                                                 class          phylum  \\\n",
       "species                                                                  \n",
       "Acidipropionibacterium damnosum         Actinobacteria  Actinobacteria   \n",
       "Apibacter adventoris                    Flavobacteriia   Bacteroidetes   \n",
       "Aquaspirillum soli                  Betaproteobacteria  Proteobacteria   \n",
       "Arcobacter lekithochrous         Epsilonproteobacteria  Proteobacteria   \n",
       "Arcobacter porcinus              Epsilonproteobacteria  Proteobacteria   \n",
       "\n",
       "                                superkingdom gram_stain       metabolism  \\\n",
       "species                                                                    \n",
       "Acidipropionibacterium damnosum     Bacteria        NaN  microaerophilic   \n",
       "Apibacter adventoris                Bacteria        NaN  microaerophilic   \n",
       "Aquaspirillum soli                  Bacteria        NaN  microaerophilic   \n",
       "Arcobacter lekithochrous            Bacteria        NaN  microaerophilic   \n",
       "Arcobacter porcinus                 Bacteria        NaN  microaerophilic   \n",
       "\n",
       "                                sporulation     ...     coding_genes.stdev  \\\n",
       "species                                         ...                          \n",
       "Acidipropionibacterium damnosum         NaN     ...                    NaN   \n",
       "Apibacter adventoris                    NaN     ...                    NaN   \n",
       "Aquaspirillum soli                      NaN     ...                    NaN   \n",
       "Arcobacter lekithochrous                NaN     ...                    NaN   \n",
       "Arcobacter porcinus                     NaN     ...                    NaN   \n",
       "\n",
       "                                optimum_tmp.stdev optimum_ph.stdev  \\\n",
       "species                                                              \n",
       "Acidipropionibacterium damnosum               NaN              NaN   \n",
       "Apibacter adventoris                          NaN              NaN   \n",
       "Aquaspirillum soli                            NaN              NaN   \n",
       "Arcobacter lekithochrous                      NaN              NaN   \n",
       "Arcobacter porcinus                           NaN              NaN   \n",
       "\n",
       "                                growth_tmp.stdev rRNA16S_genes.stdev  \\\n",
       "species                                                                \n",
       "Acidipropionibacterium damnosum              NaN                 NaN   \n",
       "Apibacter adventoris                         NaN                 NaN   \n",
       "Aquaspirillum soli                           NaN                 NaN   \n",
       "Arcobacter lekithochrous                     NaN                 NaN   \n",
       "Arcobacter porcinus                          NaN                 NaN   \n",
       "\n",
       "                                 tRNA_genes.stdev     data_source  ref_id  \\\n",
       "species                                                                     \n",
       "Acidipropionibacterium damnosum               NaN  bacdive-microa       1   \n",
       "Apibacter adventoris                          NaN  bacdive-microa       1   \n",
       "Aquaspirillum soli                            NaN  bacdive-microa       1   \n",
       "Arcobacter lekithochrous                      NaN  bacdive-microa       1   \n",
       "Arcobacter porcinus                           NaN  bacdive-microa       1   \n",
       "\n",
       "                                 intracellular  phototroph  \n",
       "species                                                     \n",
       "Acidipropionibacterium damnosum            NaN         NaN  \n",
       "Apibacter adventoris                       NaN         NaN  \n",
       "Aquaspirillum soli                         NaN         NaN  \n",
       "Arcobacter lekithochrous                   NaN         NaN  \n",
       "Arcobacter porcinus                        NaN         NaN  \n",
       "\n",
       "[5 rows x 77 columns]"
      ]
     },
     "execution_count": 11,
     "metadata": {},
     "output_type": "execute_result"
    }
   ],
   "source": [
    "dfmartin = pd.read_csv('../data/condensed_species_NCBI.csv',index_col=1)\n",
    "print(dfmartin.shape)\n",
    "dfmartin.head(5)"
   ]
  },
  {
   "cell_type": "code",
   "execution_count": 12,
   "metadata": {},
   "outputs": [],
   "source": [
    "df = pd.read_csv('../tome1.0_paper_data/data_from_tome1.0_combined.csv',index_col=0)"
   ]
  },
  {
   "cell_type": "code",
   "execution_count": 13,
   "metadata": {},
   "outputs": [
    {
     "name": "stdout",
     "output_type": "stream",
     "text": [
      "Number of new growth tmp: 91\n",
      "Number of new optimum tmp: 346\n"
     ]
    }
   ],
   "source": [
    "# column 'growth_tmp' is from martin\n",
    "# (1) update our record with column 'growth_tmp' \n",
    "# (2) if (1) failed, then use column 'optimum_tmp'\n",
    "update_with_growth_tmp = 0\n",
    "update_with_opt_tmp = 0\n",
    "ogt_old, ogt_new = [],[]\n",
    "for spc in dfmartin.index:\n",
    "    cont = spc.lower().split()\n",
    "    org = cont[0] + '_' + cont[1]\n",
    "      \n",
    "    if org not in df.index: continue # \n",
    "    if ~np.isnan(df.loc[org,'ogt']): continue # keep old value\n",
    "    \n",
    "    if ~np.isnan(dfmartin.loc[spc,'growth_tmp']):\n",
    "        df.loc[org,'ogt'] = dfmartin.loc[spc,'growth_tmp']\n",
    "        update_with_growth_tmp += 1\n",
    "    elif ~np.isnan(dfmartin.loc[spc,'optimum_tmp']):\n",
    "        df.loc[org,'ogt'] = dfmartin.loc[spc,'optimum_tmp']\n",
    "        update_with_opt_tmp += 1\n",
    "    else: pass\n",
    "    \n",
    "print('Number of new growth tmp:',update_with_growth_tmp)\n",
    "print('Number of new optimum tmp:',update_with_opt_tmp)"
   ]
  },
  {
   "cell_type": "markdown",
   "metadata": {},
   "source": [
    "#### 3. update ogts with ones from Bowman"
   ]
  },
  {
   "cell_type": "code",
   "execution_count": 14,
   "metadata": {},
   "outputs": [],
   "source": [
    "dfbowman = pd.read_csv('../data/bowman2017_Table15_1.csv',index_col=0)"
   ]
  },
  {
   "cell_type": "code",
   "execution_count": 15,
   "metadata": {},
   "outputs": [
    {
     "data": {
      "text/html": [
       "<div>\n",
       "<style scoped>\n",
       "    .dataframe tbody tr th:only-of-type {\n",
       "        vertical-align: middle;\n",
       "    }\n",
       "\n",
       "    .dataframe tbody tr th {\n",
       "        vertical-align: top;\n",
       "    }\n",
       "\n",
       "    .dataframe thead th {\n",
       "        text-align: right;\n",
       "    }\n",
       "</style>\n",
       "<table border=\"1\" class=\"dataframe\">\n",
       "  <thead>\n",
       "    <tr style=\"text-align: right;\">\n",
       "      <th></th>\n",
       "      <th>Strain</th>\n",
       "      <th>OGT</th>\n",
       "      <th>Accession</th>\n",
       "    </tr>\n",
       "    <tr>\n",
       "      <th>Species</th>\n",
       "      <th></th>\n",
       "      <th></th>\n",
       "      <th></th>\n",
       "    </tr>\n",
       "  </thead>\n",
       "  <tbody>\n",
       "    <tr>\n",
       "      <th>Arthrobacter alpinus</th>\n",
       "      <td>R3.8</td>\n",
       "      <td>18</td>\n",
       "      <td>CP012676-7b</td>\n",
       "    </tr>\n",
       "    <tr>\n",
       "      <th>Cryobacterium arcticum</th>\n",
       "      <td>PAMC 27867</td>\n",
       "      <td>16</td>\n",
       "      <td>CP016282-4</td>\n",
       "    </tr>\n",
       "    <tr>\n",
       "      <th>Cryobacterium flavum</th>\n",
       "      <td>CGMCC 1.11215</td>\n",
       "      <td>9</td>\n",
       "      <td>FNIB00000000</td>\n",
       "    </tr>\n",
       "    <tr>\n",
       "      <th>Cryobacterium levicorallinum</th>\n",
       "      <td>GMCC 1.11211</td>\n",
       "      <td>8</td>\n",
       "      <td>FOPW00000000</td>\n",
       "    </tr>\n",
       "    <tr>\n",
       "      <th>Cryobacterium luteum</th>\n",
       "      <td>CGMCC 1.11210</td>\n",
       "      <td>10</td>\n",
       "      <td>FOCN00000000</td>\n",
       "    </tr>\n",
       "  </tbody>\n",
       "</table>\n",
       "</div>"
      ],
      "text/plain": [
       "                                     Strain  OGT     Accession\n",
       "Species                                                       \n",
       "Arthrobacter alpinus                   R3.8   18   CP012676-7b\n",
       "Cryobacterium arcticum           PAMC 27867   16    CP016282-4\n",
       "Cryobacterium flavum          CGMCC 1.11215    9  FNIB00000000\n",
       "Cryobacterium levicorallinum   GMCC 1.11211    8  FOPW00000000\n",
       "Cryobacterium luteum          CGMCC 1.11210   10  FOCN00000000"
      ]
     },
     "execution_count": 15,
     "metadata": {},
     "output_type": "execute_result"
    }
   ],
   "source": [
    "dfbowman.head(5)"
   ]
  },
  {
   "cell_type": "code",
   "execution_count": 16,
   "metadata": {},
   "outputs": [
    {
     "name": "stdout",
     "output_type": "stream",
     "text": [
      "Number of updated orgs: 108\n",
      "Number of new ogts: 5\n"
     ]
    }
   ],
   "source": [
    "updated_num = 0\n",
    "new_ones = 0\n",
    "old_ogt, bowmanogt = [],[]\n",
    "for ind in dfbowman.index:\n",
    "    cont = ind.lower().split()\n",
    "    org = cont[0] + '_' + cont[1]\n",
    "    if org in df.index:\n",
    "        if np.isnan(df.loc[org,'ogt']): new_ones += 1\n",
    "        else: updated_num += 1\n",
    "        old_ogt.append(df.loc[org,'ogt'])\n",
    "        bowmanogt.append(dfbowman.loc[ind,'OGT'])\n",
    "        df.loc[org,'ogt'] = dfbowman.loc[ind,'OGT']\n",
    "print('Number of updated orgs:', updated_num)\n",
    "print('Number of new ogts:', new_ones)"
   ]
  },
  {
   "cell_type": "code",
   "execution_count": 17,
   "metadata": {},
   "outputs": [
    {
     "data": {
      "text/plain": [
       "(0, 35)"
      ]
     },
     "execution_count": 17,
     "metadata": {},
     "output_type": "execute_result"
    },
    {
     "data": {
      "image/png": "[encoded data removed]",
      "text/plain": [
       "<Figure size 432x288 with 1 Axes>"
      ]
     },
     "metadata": {
      "needs_background": "light"
     },
     "output_type": "display_data"
    }
   ],
   "source": [
    "plt.scatter(old_ogt,bowmanogt)\n",
    "plt.xlabel('old')\n",
    "plt.ylabel('bowman')\n",
    "lim = [0,35]\n",
    "plt.plot(lim,lim)\n",
    "plt.xlim(lim)\n",
    "plt.ylim(lim)\n"
   ]
  },
  {
   "cell_type": "code",
   "execution_count": 20,
   "metadata": {},
   "outputs": [
    {
     "name": "stdout",
     "output_type": "stream",
     "text": [
      "(6971, 401)\n",
      "(6020, 401)\n",
      "(951, 401)\n"
     ]
    }
   ],
   "source": [
    "clc_sps = []\n",
    "to_predict = []\n",
    "for ind in df.index:\n",
    "    if np.isnan(df.loc[ind,'ogt']): to_predict.append(ind)\n",
    "    else: clc_sps.append(ind)\n",
    "df_clc = df.loc[clc_sps,:]\n",
    "df_to_predict = df.loc[to_predict,:]\n",
    "\n",
    "print(df.shape)\n",
    "print(df_clc.shape)\n",
    "print(df_to_predict.shape)"
   ]
  },
  {
   "cell_type": "code",
   "execution_count": 23,
   "metadata": {},
   "outputs": [],
   "source": [
    "df_clc.to_csv('../data/dimer_updated_with_madin_bowman.csv')\n",
    "df_to_predict.to_csv('../data/dimer_not_classified_left.csv')"
   ]
  },
  {
   "cell_type": "markdown",
   "metadata": {},
   "source": [
    "### Visualize training data "
   ]
  },
  {
   "cell_type": "code",
   "execution_count": 19,
   "metadata": {},
   "outputs": [
    {
     "data": {
      "text/plain": [
       "(array([5.000e+00, 9.000e+00, 1.400e+01, 8.000e+00, 6.000e+00, 4.400e+01,\n",
       "        5.600e+01, 7.100e+01, 7.600e+01, 1.970e+02, 4.570e+02, 1.157e+03,\n",
       "        1.335e+03, 2.390e+02, 1.930e+02, 2.500e+02, 1.399e+03, 3.300e+01,\n",
       "        2.000e+01, 9.000e+00, 3.700e+01, 1.400e+01, 4.500e+01, 7.000e+00,\n",
       "        6.000e+00, 6.900e+01, 7.000e+00, 5.000e+00, 5.400e+01, 1.000e+01,\n",
       "        3.900e+01, 4.000e+00, 7.000e+00, 3.700e+01, 2.000e+00, 1.600e+01,\n",
       "        1.000e+00, 3.000e+00, 2.300e+01, 2.000e+00, 2.200e+01, 2.000e+00,\n",
       "        5.000e+00, 1.100e+01, 2.000e+00, 5.000e+00, 2.000e+00, 3.000e+00,\n",
       "        1.000e+00, 1.000e+00]),\n",
       " array([  5.  ,   6.96,   8.92,  10.88,  12.84,  14.8 ,  16.76,  18.72,\n",
       "         20.68,  22.64,  24.6 ,  26.56,  28.52,  30.48,  32.44,  34.4 ,\n",
       "         36.36,  38.32,  40.28,  42.24,  44.2 ,  46.16,  48.12,  50.08,\n",
       "         52.04,  54.  ,  55.96,  57.92,  59.88,  61.84,  63.8 ,  65.76,\n",
       "         67.72,  69.68,  71.64,  73.6 ,  75.56,  77.52,  79.48,  81.44,\n",
       "         83.4 ,  85.36,  87.32,  89.28,  91.24,  93.2 ,  95.16,  97.12,\n",
       "         99.08, 101.04, 103.  ]),\n",
       " <a list of 50 Patch objects>)"
      ]
     },
     "execution_count": 19,
     "metadata": {},
     "output_type": "execute_result"
    },
    {
     "data": {
      "image/png": "[encoded data removed]",
      "text/plain": [
       "<Figure size 432x288 with 1 Axes>"
      ]
     },
     "metadata": {
      "needs_background": "light"
     },
     "output_type": "display_data"
    }
   ],
   "source": [
    "plt.hist(df['ogt'],50)"
   ]
  },
  {
   "cell_type": "markdown",
   "metadata": {},
   "source": [
    "#### Put equal weights to each temperature interval"
   ]
  },
  {
   "cell_type": "code",
   "execution_count": 24,
   "metadata": {},
   "outputs": [
    {
     "data": {
      "text/html": [
       "<div>\n",
       "<style scoped>\n",
       "    .dataframe tbody tr th:only-of-type {\n",
       "        vertical-align: middle;\n",
       "    }\n",
       "\n",
       "    .dataframe tbody tr th {\n",
       "        vertical-align: top;\n",
       "    }\n",
       "\n",
       "    .dataframe thead th {\n",
       "        text-align: right;\n",
       "    }\n",
       "</style>\n",
       "<table border=\"1\" class=\"dataframe\">\n",
       "  <thead>\n",
       "    <tr style=\"text-align: right;\">\n",
       "      <th></th>\n",
       "      <th>AA</th>\n",
       "      <th>AC</th>\n",
       "      <th>AD</th>\n",
       "      <th>AE</th>\n",
       "      <th>AF</th>\n",
       "      <th>AG</th>\n",
       "      <th>AH</th>\n",
       "      <th>AI</th>\n",
       "      <th>AK</th>\n",
       "      <th>AL</th>\n",
       "      <th>...</th>\n",
       "      <th>YN</th>\n",
       "      <th>YP</th>\n",
       "      <th>YQ</th>\n",
       "      <th>YR</th>\n",
       "      <th>YS</th>\n",
       "      <th>YT</th>\n",
       "      <th>YV</th>\n",
       "      <th>YW</th>\n",
       "      <th>YY</th>\n",
       "      <th>ogt</th>\n",
       "    </tr>\n",
       "  </thead>\n",
       "  <tbody>\n",
       "    <tr>\n",
       "      <th>allobaculum_stercoricanis</th>\n",
       "      <td>0.005367</td>\n",
       "      <td>0.001105</td>\n",
       "      <td>0.003809</td>\n",
       "      <td>0.003263</td>\n",
       "      <td>0.002990</td>\n",
       "      <td>0.004836</td>\n",
       "      <td>0.001432</td>\n",
       "      <td>0.006074</td>\n",
       "      <td>0.005794</td>\n",
       "      <td>0.007877</td>\n",
       "      <td>...</td>\n",
       "      <td>0.001727</td>\n",
       "      <td>0.001648</td>\n",
       "      <td>0.001823</td>\n",
       "      <td>0.001773</td>\n",
       "      <td>0.002474</td>\n",
       "      <td>0.002147</td>\n",
       "      <td>0.002305</td>\n",
       "      <td>0.000403</td>\n",
       "      <td>0.001534</td>\n",
       "      <td>37.0</td>\n",
       "    </tr>\n",
       "    <tr>\n",
       "      <th>shewanella_algae</th>\n",
       "      <td>0.010752</td>\n",
       "      <td>0.001212</td>\n",
       "      <td>0.005580</td>\n",
       "      <td>0.007041</td>\n",
       "      <td>0.003622</td>\n",
       "      <td>0.007179</td>\n",
       "      <td>0.001718</td>\n",
       "      <td>0.005544</td>\n",
       "      <td>0.005156</td>\n",
       "      <td>0.012491</td>\n",
       "      <td>...</td>\n",
       "      <td>0.001011</td>\n",
       "      <td>0.001440</td>\n",
       "      <td>0.002096</td>\n",
       "      <td>0.002270</td>\n",
       "      <td>0.002069</td>\n",
       "      <td>0.001223</td>\n",
       "      <td>0.001472</td>\n",
       "      <td>0.000515</td>\n",
       "      <td>0.000947</td>\n",
       "      <td>28.0</td>\n",
       "    </tr>\n",
       "    <tr>\n",
       "      <th>bifidobacterium_saguini</th>\n",
       "      <td>0.013873</td>\n",
       "      <td>0.001048</td>\n",
       "      <td>0.007266</td>\n",
       "      <td>0.006288</td>\n",
       "      <td>0.003457</td>\n",
       "      <td>0.008843</td>\n",
       "      <td>0.002224</td>\n",
       "      <td>0.005884</td>\n",
       "      <td>0.005065</td>\n",
       "      <td>0.010067</td>\n",
       "      <td>...</td>\n",
       "      <td>0.000994</td>\n",
       "      <td>0.001298</td>\n",
       "      <td>0.001138</td>\n",
       "      <td>0.001713</td>\n",
       "      <td>0.001673</td>\n",
       "      <td>0.001711</td>\n",
       "      <td>0.002072</td>\n",
       "      <td>0.000453</td>\n",
       "      <td>0.000926</td>\n",
       "      <td>37.0</td>\n",
       "    </tr>\n",
       "    <tr>\n",
       "      <th>ochrobactrum_rhizosphaerae</th>\n",
       "      <td>0.013460</td>\n",
       "      <td>0.000835</td>\n",
       "      <td>0.006199</td>\n",
       "      <td>0.006978</td>\n",
       "      <td>0.004413</td>\n",
       "      <td>0.009027</td>\n",
       "      <td>0.002097</td>\n",
       "      <td>0.007038</td>\n",
       "      <td>0.004678</td>\n",
       "      <td>0.011873</td>\n",
       "      <td>...</td>\n",
       "      <td>0.000781</td>\n",
       "      <td>0.001143</td>\n",
       "      <td>0.000817</td>\n",
       "      <td>0.001730</td>\n",
       "      <td>0.001412</td>\n",
       "      <td>0.001173</td>\n",
       "      <td>0.001715</td>\n",
       "      <td>0.000378</td>\n",
       "      <td>0.000642</td>\n",
       "      <td>28.0</td>\n",
       "    </tr>\n",
       "    <tr>\n",
       "      <th>sphingomonas_haloaromaticamans</th>\n",
       "      <td>0.022561</td>\n",
       "      <td>0.001093</td>\n",
       "      <td>0.008958</td>\n",
       "      <td>0.008309</td>\n",
       "      <td>0.004629</td>\n",
       "      <td>0.013291</td>\n",
       "      <td>0.002516</td>\n",
       "      <td>0.007588</td>\n",
       "      <td>0.003563</td>\n",
       "      <td>0.014646</td>\n",
       "      <td>...</td>\n",
       "      <td>0.000569</td>\n",
       "      <td>0.001035</td>\n",
       "      <td>0.000689</td>\n",
       "      <td>0.002068</td>\n",
       "      <td>0.001160</td>\n",
       "      <td>0.000992</td>\n",
       "      <td>0.001508</td>\n",
       "      <td>0.000357</td>\n",
       "      <td>0.000635</td>\n",
       "      <td>30.0</td>\n",
       "    </tr>\n",
       "  </tbody>\n",
       "</table>\n",
       "<p>5 rows × 401 columns</p>\n",
       "</div>"
      ],
      "text/plain": [
       "                                      AA        AC        AD        AE  \\\n",
       "allobaculum_stercoricanis       0.005367  0.001105  0.003809  0.003263   \n",
       "shewanella_algae                0.010752  0.001212  0.005580  0.007041   \n",
       "bifidobacterium_saguini         0.013873  0.001048  0.007266  0.006288   \n",
       "ochrobactrum_rhizosphaerae      0.013460  0.000835  0.006199  0.006978   \n",
       "sphingomonas_haloaromaticamans  0.022561  0.001093  0.008958  0.008309   \n",
       "\n",
       "                                      AF        AG        AH        AI  \\\n",
       "allobaculum_stercoricanis       0.002990  0.004836  0.001432  0.006074   \n",
       "shewanella_algae                0.003622  0.007179  0.001718  0.005544   \n",
       "bifidobacterium_saguini         0.003457  0.008843  0.002224  0.005884   \n",
       "ochrobactrum_rhizosphaerae      0.004413  0.009027  0.002097  0.007038   \n",
       "sphingomonas_haloaromaticamans  0.004629  0.013291  0.002516  0.007588   \n",
       "\n",
       "                                      AK        AL  ...         YN        YP  \\\n",
       "allobaculum_stercoricanis       0.005794  0.007877  ...   0.001727  0.001648   \n",
       "shewanella_algae                0.005156  0.012491  ...   0.001011  0.001440   \n",
       "bifidobacterium_saguini         0.005065  0.010067  ...   0.000994  0.001298   \n",
       "ochrobactrum_rhizosphaerae      0.004678  0.011873  ...   0.000781  0.001143   \n",
       "sphingomonas_haloaromaticamans  0.003563  0.014646  ...   0.000569  0.001035   \n",
       "\n",
       "                                      YQ        YR        YS        YT  \\\n",
       "allobaculum_stercoricanis       0.001823  0.001773  0.002474  0.002147   \n",
       "shewanella_algae                0.002096  0.002270  0.002069  0.001223   \n",
       "bifidobacterium_saguini         0.001138  0.001713  0.001673  0.001711   \n",
       "ochrobactrum_rhizosphaerae      0.000817  0.001730  0.001412  0.001173   \n",
       "sphingomonas_haloaromaticamans  0.000689  0.002068  0.001160  0.000992   \n",
       "\n",
       "                                      YV        YW        YY   ogt  \n",
       "allobaculum_stercoricanis       0.002305  0.000403  0.001534  37.0  \n",
       "shewanella_algae                0.001472  0.000515  0.000947  28.0  \n",
       "bifidobacterium_saguini         0.002072  0.000453  0.000926  37.0  \n",
       "ochrobactrum_rhizosphaerae      0.001715  0.000378  0.000642  28.0  \n",
       "sphingomonas_haloaromaticamans  0.001508  0.000357  0.000635  30.0  \n",
       "\n",
       "[5 rows x 401 columns]"
      ]
     },
     "execution_count": 24,
     "metadata": {},
     "output_type": "execute_result"
    }
   ],
   "source": [
    "df = pd.read_csv('../data/dimer_updated_with_madin_bowman.csv',index_col=0)\n",
    "df.head(n=5)"
   ]
  },
  {
   "cell_type": "code",
   "execution_count": 25,
   "metadata": {},
   "outputs": [
    {
     "name": "stdout",
     "output_type": "stream",
     "text": [
      "10.608265439280958\n",
      "0.8866204530931148\n"
     ]
    }
   ],
   "source": [
    "print(np.std(df['ogt']))\n",
    "print(1-sigma_2_avg/np.var(df['ogt']))"
   ]
  },
  {
   "cell_type": "code",
   "execution_count": null,
   "metadata": {},
   "outputs": [],
   "source": []
  },
  {
   "cell_type": "code",
   "execution_count": 26,
   "metadata": {},
   "outputs": [],
   "source": [
    "bin_member = dict()\n",
    "for ogt in df['ogt']:\n",
    "    bin_id = int(ogt//5)\n",
    "    bin_member[bin_id] = bin_member.get(bin_id,0) + 1"
   ]
  },
  {
   "cell_type": "code",
   "execution_count": 27,
   "metadata": {},
   "outputs": [
    {
     "name": "stdout",
     "output_type": "stream",
     "text": [
      "{7: 1663, 5: 2076, 6: 1304, 3: 105, 16: 26, 2: 25, 11: 80, 10: 58, 4: 340, 8: 48, 12: 65, 9: 52, 14: 40, 13: 50, 17: 28, 1: 17, 18: 13, 19: 10, 20: 2, 15: 18}\n"
     ]
    }
   ],
   "source": [
    "print(bin_member)"
   ]
  },
  {
   "cell_type": "code",
   "execution_count": 28,
   "metadata": {},
   "outputs": [],
   "source": [
    "weights = {bin_id:1/len(bin_member)/m for bin_id,m in bin_member.items()}"
   ]
  },
  {
   "cell_type": "code",
   "execution_count": 29,
   "metadata": {},
   "outputs": [],
   "source": [
    "weight_col = [weights[int(ogt//5)] for ogt in df['ogt']]"
   ]
  },
  {
   "cell_type": "code",
   "execution_count": 30,
   "metadata": {},
   "outputs": [
    {
     "data": {
      "text/html": [
       "<div>\n",
       "<style scoped>\n",
       "    .dataframe tbody tr th:only-of-type {\n",
       "        vertical-align: middle;\n",
       "    }\n",
       "\n",
       "    .dataframe tbody tr th {\n",
       "        vertical-align: top;\n",
       "    }\n",
       "\n",
       "    .dataframe thead th {\n",
       "        text-align: right;\n",
       "    }\n",
       "</style>\n",
       "<table border=\"1\" class=\"dataframe\">\n",
       "  <thead>\n",
       "    <tr style=\"text-align: right;\">\n",
       "      <th></th>\n",
       "      <th>AA</th>\n",
       "      <th>AC</th>\n",
       "      <th>AD</th>\n",
       "      <th>AE</th>\n",
       "      <th>AF</th>\n",
       "      <th>AG</th>\n",
       "      <th>AH</th>\n",
       "      <th>AI</th>\n",
       "      <th>AK</th>\n",
       "      <th>AL</th>\n",
       "      <th>...</th>\n",
       "      <th>YP</th>\n",
       "      <th>YQ</th>\n",
       "      <th>YR</th>\n",
       "      <th>YS</th>\n",
       "      <th>YT</th>\n",
       "      <th>YV</th>\n",
       "      <th>YW</th>\n",
       "      <th>YY</th>\n",
       "      <th>ogt</th>\n",
       "      <th>weight</th>\n",
       "    </tr>\n",
       "  </thead>\n",
       "  <tbody>\n",
       "    <tr>\n",
       "      <th>allobaculum_stercoricanis</th>\n",
       "      <td>0.005367</td>\n",
       "      <td>0.001105</td>\n",
       "      <td>0.003809</td>\n",
       "      <td>0.003263</td>\n",
       "      <td>0.002990</td>\n",
       "      <td>0.004836</td>\n",
       "      <td>0.001432</td>\n",
       "      <td>0.006074</td>\n",
       "      <td>0.005794</td>\n",
       "      <td>0.007877</td>\n",
       "      <td>...</td>\n",
       "      <td>0.001648</td>\n",
       "      <td>0.001823</td>\n",
       "      <td>0.001773</td>\n",
       "      <td>0.002474</td>\n",
       "      <td>0.002147</td>\n",
       "      <td>0.002305</td>\n",
       "      <td>0.000403</td>\n",
       "      <td>0.001534</td>\n",
       "      <td>37.0</td>\n",
       "      <td>0.000030</td>\n",
       "    </tr>\n",
       "    <tr>\n",
       "      <th>shewanella_algae</th>\n",
       "      <td>0.010752</td>\n",
       "      <td>0.001212</td>\n",
       "      <td>0.005580</td>\n",
       "      <td>0.007041</td>\n",
       "      <td>0.003622</td>\n",
       "      <td>0.007179</td>\n",
       "      <td>0.001718</td>\n",
       "      <td>0.005544</td>\n",
       "      <td>0.005156</td>\n",
       "      <td>0.012491</td>\n",
       "      <td>...</td>\n",
       "      <td>0.001440</td>\n",
       "      <td>0.002096</td>\n",
       "      <td>0.002270</td>\n",
       "      <td>0.002069</td>\n",
       "      <td>0.001223</td>\n",
       "      <td>0.001472</td>\n",
       "      <td>0.000515</td>\n",
       "      <td>0.000947</td>\n",
       "      <td>28.0</td>\n",
       "      <td>0.000024</td>\n",
       "    </tr>\n",
       "    <tr>\n",
       "      <th>bifidobacterium_saguini</th>\n",
       "      <td>0.013873</td>\n",
       "      <td>0.001048</td>\n",
       "      <td>0.007266</td>\n",
       "      <td>0.006288</td>\n",
       "      <td>0.003457</td>\n",
       "      <td>0.008843</td>\n",
       "      <td>0.002224</td>\n",
       "      <td>0.005884</td>\n",
       "      <td>0.005065</td>\n",
       "      <td>0.010067</td>\n",
       "      <td>...</td>\n",
       "      <td>0.001298</td>\n",
       "      <td>0.001138</td>\n",
       "      <td>0.001713</td>\n",
       "      <td>0.001673</td>\n",
       "      <td>0.001711</td>\n",
       "      <td>0.002072</td>\n",
       "      <td>0.000453</td>\n",
       "      <td>0.000926</td>\n",
       "      <td>37.0</td>\n",
       "      <td>0.000030</td>\n",
       "    </tr>\n",
       "    <tr>\n",
       "      <th>ochrobactrum_rhizosphaerae</th>\n",
       "      <td>0.013460</td>\n",
       "      <td>0.000835</td>\n",
       "      <td>0.006199</td>\n",
       "      <td>0.006978</td>\n",
       "      <td>0.004413</td>\n",
       "      <td>0.009027</td>\n",
       "      <td>0.002097</td>\n",
       "      <td>0.007038</td>\n",
       "      <td>0.004678</td>\n",
       "      <td>0.011873</td>\n",
       "      <td>...</td>\n",
       "      <td>0.001143</td>\n",
       "      <td>0.000817</td>\n",
       "      <td>0.001730</td>\n",
       "      <td>0.001412</td>\n",
       "      <td>0.001173</td>\n",
       "      <td>0.001715</td>\n",
       "      <td>0.000378</td>\n",
       "      <td>0.000642</td>\n",
       "      <td>28.0</td>\n",
       "      <td>0.000024</td>\n",
       "    </tr>\n",
       "    <tr>\n",
       "      <th>sphingomonas_haloaromaticamans</th>\n",
       "      <td>0.022561</td>\n",
       "      <td>0.001093</td>\n",
       "      <td>0.008958</td>\n",
       "      <td>0.008309</td>\n",
       "      <td>0.004629</td>\n",
       "      <td>0.013291</td>\n",
       "      <td>0.002516</td>\n",
       "      <td>0.007588</td>\n",
       "      <td>0.003563</td>\n",
       "      <td>0.014646</td>\n",
       "      <td>...</td>\n",
       "      <td>0.001035</td>\n",
       "      <td>0.000689</td>\n",
       "      <td>0.002068</td>\n",
       "      <td>0.001160</td>\n",
       "      <td>0.000992</td>\n",
       "      <td>0.001508</td>\n",
       "      <td>0.000357</td>\n",
       "      <td>0.000635</td>\n",
       "      <td>30.0</td>\n",
       "      <td>0.000038</td>\n",
       "    </tr>\n",
       "  </tbody>\n",
       "</table>\n",
       "<p>5 rows × 402 columns</p>\n",
       "</div>"
      ],
      "text/plain": [
       "                                      AA        AC        AD        AE  \\\n",
       "allobaculum_stercoricanis       0.005367  0.001105  0.003809  0.003263   \n",
       "shewanella_algae                0.010752  0.001212  0.005580  0.007041   \n",
       "bifidobacterium_saguini         0.013873  0.001048  0.007266  0.006288   \n",
       "ochrobactrum_rhizosphaerae      0.013460  0.000835  0.006199  0.006978   \n",
       "sphingomonas_haloaromaticamans  0.022561  0.001093  0.008958  0.008309   \n",
       "\n",
       "                                      AF        AG        AH        AI  \\\n",
       "allobaculum_stercoricanis       0.002990  0.004836  0.001432  0.006074   \n",
       "shewanella_algae                0.003622  0.007179  0.001718  0.005544   \n",
       "bifidobacterium_saguini         0.003457  0.008843  0.002224  0.005884   \n",
       "ochrobactrum_rhizosphaerae      0.004413  0.009027  0.002097  0.007038   \n",
       "sphingomonas_haloaromaticamans  0.004629  0.013291  0.002516  0.007588   \n",
       "\n",
       "                                      AK        AL    ...           YP  \\\n",
       "allobaculum_stercoricanis       0.005794  0.007877    ...     0.001648   \n",
       "shewanella_algae                0.005156  0.012491    ...     0.001440   \n",
       "bifidobacterium_saguini         0.005065  0.010067    ...     0.001298   \n",
       "ochrobactrum_rhizosphaerae      0.004678  0.011873    ...     0.001143   \n",
       "sphingomonas_haloaromaticamans  0.003563  0.014646    ...     0.001035   \n",
       "\n",
       "                                      YQ        YR        YS        YT  \\\n",
       "allobaculum_stercoricanis       0.001823  0.001773  0.002474  0.002147   \n",
       "shewanella_algae                0.002096  0.002270  0.002069  0.001223   \n",
       "bifidobacterium_saguini         0.001138  0.001713  0.001673  0.001711   \n",
       "ochrobactrum_rhizosphaerae      0.000817  0.001730  0.001412  0.001173   \n",
       "sphingomonas_haloaromaticamans  0.000689  0.002068  0.001160  0.000992   \n",
       "\n",
       "                                      YV        YW        YY   ogt    weight  \n",
       "allobaculum_stercoricanis       0.002305  0.000403  0.001534  37.0  0.000030  \n",
       "shewanella_algae                0.001472  0.000515  0.000947  28.0  0.000024  \n",
       "bifidobacterium_saguini         0.002072  0.000453  0.000926  37.0  0.000030  \n",
       "ochrobactrum_rhizosphaerae      0.001715  0.000378  0.000642  28.0  0.000024  \n",
       "sphingomonas_haloaromaticamans  0.001508  0.000357  0.000635  30.0  0.000038  \n",
       "\n",
       "[5 rows x 402 columns]"
      ]
     },
     "execution_count": 30,
     "metadata": {},
     "output_type": "execute_result"
    }
   ],
   "source": [
    "df['weight'] = weight_col\n",
    "df.head(n=5)"
   ]
  },
  {
   "cell_type": "code",
   "execution_count": 31,
   "metadata": {},
   "outputs": [],
   "source": [
    "df.to_csv('../data/dimer_updated_with_madin_bowman_uniform_weights.csv')"
   ]
  },
  {
   "cell_type": "code",
   "execution_count": null,
   "metadata": {},
   "outputs": [],
   "source": []
  },
  {
   "cell_type": "markdown",
   "metadata": {},
   "source": [
    "#### Downsampling 37 °C"
   ]
  },
  {
   "cell_type": "code",
   "execution_count": 32,
   "metadata": {},
   "outputs": [
    {
     "name": "stdout",
     "output_type": "stream",
     "text": [
      "1383\n",
      "Index(['allobaculum_stercoricanis', 'bifidobacterium_saguini',\n",
      "       'collinsella_aerofaciens', 'enterococcus_asini', 'clostridium_baratii',\n",
      "       'eubacterium_sulci', 'streptobacillus_moniliformis',\n",
      "       'parascardovia_denticolens', 'haematospirillum_jordaniae',\n",
      "       'peptoniphilus_lacrimalis',\n",
      "       ...\n",
      "       'ruminococcus_faecis', 'sneathia_amnii', 'bacteroides_reticulotermitis',\n",
      "       'mucispirillum_schaedleri', 'alloprevotella_tannerae', 'sar116_cluster',\n",
      "       'natrinema_altunense', 'ehrlichia_canis', 'holdemania_massiliensis',\n",
      "       'noviherbaspirillum_massiliense'],\n",
      "      dtype='object', length=1383)\n"
     ]
    }
   ],
   "source": [
    "df = pd.read_csv('../data/dimer_updated_with_madin_bowman.csv',index_col=0)\n",
    "ogt = df['ogt'].values\n",
    "orgs_37 = df.index[ogt==37]\n",
    "print(len(orgs_37))\n",
    "print(orgs_37)"
   ]
  },
  {
   "cell_type": "code",
   "execution_count": 51,
   "metadata": {},
   "outputs": [
    {
     "name": "stdout",
     "output_type": "stream",
     "text": [
      "1283\n"
     ]
    }
   ],
   "source": [
    "# keep 100 such orgs \n",
    "np.random.seed(212)\n",
    "exc_org_37 = np.random.choice(orgs_37,len(orgs_37)-100,replace=False)\n",
    "np.random.seed()\n",
    "print(len(exc_org_37))"
   ]
  },
  {
   "cell_type": "code",
   "execution_count": 52,
   "metadata": {},
   "outputs": [
    {
     "data": {
      "text/plain": [
       "(4737, 401)"
      ]
     },
     "execution_count": 52,
     "metadata": {},
     "output_type": "execute_result"
    }
   ],
   "source": [
    "org_left = [org for org in df.index if org not in exc_org_37]\n",
    "dfsel = df.loc[org_left,:]\n",
    "dfsel.shape"
   ]
  },
  {
   "cell_type": "code",
   "execution_count": 53,
   "metadata": {},
   "outputs": [
    {
     "data": {
      "image/png": "[encoded data removed]",
      "text/plain": [
       "<Figure size 288x216 with 1 Axes>"
      ]
     },
     "metadata": {
      "needs_background": "light"
     },
     "output_type": "display_data"
    }
   ],
   "source": [
    "plt.figure(figsize=(4,3))\n",
    "plt.hist(dfsel['ogt'],50)\n",
    "plt.xlabel('OGT ($\\circ$C)')\n",
    "plt.ylabel('Count')\n",
    "plt.show()"
   ]
  },
  {
   "cell_type": "code",
   "execution_count": 54,
   "metadata": {},
   "outputs": [],
   "source": [
    "dfsel.to_csv('../data/dimer_updated_with_madin_bowman_reduce37.csv')"
   ]
  },
  {
   "cell_type": "code",
   "execution_count": 83,
   "metadata": {},
   "outputs": [],
   "source": [
    "df = pd.read_csv('../data/dimer_updated_with_madin_bowman.csv',index_col=0)"
   ]
  },
  {
   "cell_type": "code",
   "execution_count": 84,
   "metadata": {},
   "outputs": [
    {
     "data": {
      "text/plain": [
       "(869, 401)"
      ]
     },
     "execution_count": 84,
     "metadata": {},
     "output_type": "execute_result"
    }
   ],
   "source": [
    "df[df['ogt']==30].shape"
   ]
  },
  {
   "cell_type": "code",
   "execution_count": 89,
   "metadata": {},
   "outputs": [
    {
     "data": {
      "text/plain": [
       "(487, 401)"
      ]
     },
     "execution_count": 89,
     "metadata": {},
     "output_type": "execute_result"
    }
   ],
   "source": [
    "df[df['ogt']<25].shape"
   ]
  },
  {
   "cell_type": "code",
   "execution_count": 88,
   "metadata": {},
   "outputs": [
    {
     "data": {
      "text/plain": [
       "(119, 401)"
      ]
     },
     "execution_count": 88,
     "metadata": {},
     "output_type": "execute_result"
    }
   ],
   "source": [
    "df[df['ogt']==31].shape"
   ]
  },
  {
   "cell_type": "code",
   "execution_count": 87,
   "metadata": {},
   "outputs": [
    {
     "data": {
      "image/png": "[encoded data removed]",
      "text/plain": [
       "<Figure size 432x288 with 1 Axes>"
      ]
     },
     "metadata": {
      "needs_background": "light"
     },
     "output_type": "display_data"
    }
   ],
   "source": [
    "plt.hist(df['ogt'],100)\n",
    "plt.show()"
   ]
  },
  {
   "cell_type": "code",
   "execution_count": 77,
   "metadata": {},
   "outputs": [
    {
     "data": {
      "text/plain": [
       "0.9071872101246024"
      ]
     },
     "execution_count": 77,
     "metadata": {},
     "output_type": "execute_result"
    }
   ],
   "source": [
    "1-3.57**2/np.var(dfsel['ogt'])"
   ]
  },
  {
   "cell_type": "code",
   "execution_count": 91,
   "metadata": {},
   "outputs": [],
   "source": [
    "def plot_boxcox(aa):\n",
    "    plt.figure(figsize=(6,3))\n",
    "    plt.subplot(1,2,1)\n",
    "    plt.hist(dfsel[aa],50)\n",
    "\n",
    "    plt.subplot(1,2,2)\n",
    "    plt.hist(stats.boxcox(dfsel[aa].values)[0],50)\n",
    "    plt.tight_layout()\n",
    "    plt.show()"
   ]
  },
  {
   "cell_type": "code",
   "execution_count": 92,
   "metadata": {},
   "outputs": [
    {
     "data": {
      "image/png": "[encoded data removed]",
      "text/plain": [
       "<Figure size 432x216 with 2 Axes>"
      ]
     },
     "metadata": {
      "needs_background": "light"
     },
     "output_type": "display_data"
    }
   ],
   "source": [
    "plot_boxcox('II')"
   ]
  },
  {
   "cell_type": "code",
   "execution_count": 93,
   "metadata": {},
   "outputs": [
    {
     "data": {
      "image/png": "[encoded data removed]",
      "text/plain": [
       "<Figure size 432x216 with 2 Axes>"
      ]
     },
     "metadata": {
      "needs_background": "light"
     },
     "output_type": "display_data"
    }
   ],
   "source": [
    "plot_boxcox('YY')"
   ]
  },
  {
   "cell_type": "code",
   "execution_count": 94,
   "metadata": {},
   "outputs": [
    {
     "data": {
      "image/png": "[encoded data removed]",
      "text/plain": [
       "<Figure size 432x216 with 2 Axes>"
      ]
     },
     "metadata": {
      "needs_background": "light"
     },
     "output_type": "display_data"
    }
   ],
   "source": [
    "plot_boxcox('SP')"
   ]
  },
  {
   "cell_type": "code",
   "execution_count": 95,
   "metadata": {},
   "outputs": [
    {
     "data": {
      "image/png": "[encoded data removed]",
      "text/plain": [
       "<Figure size 432x216 with 2 Axes>"
      ]
     },
     "metadata": {
      "needs_background": "light"
     },
     "output_type": "display_data"
    }
   ],
   "source": [
    "plot_boxcox('NN')"
   ]
  },
  {
   "cell_type": "code",
   "execution_count": 96,
   "metadata": {},
   "outputs": [
    {
     "data": {
      "image/png": "[encoded data removed]",
      "text/plain": [
       "<Figure size 432x216 with 2 Axes>"
      ]
     },
     "metadata": {
      "needs_background": "light"
     },
     "output_type": "display_data"
    }
   ],
   "source": [
    "plot_boxcox('FV')"
   ]
  },
  {
   "cell_type": "code",
   "execution_count": 98,
   "metadata": {},
   "outputs": [
    {
     "data": {
      "image/png": "[encoded data removed]",
      "text/plain": [
       "<Figure size 432x216 with 2 Axes>"
      ]
     },
     "metadata": {
      "needs_background": "light"
     },
     "output_type": "display_data"
    }
   ],
   "source": [
    "plot_boxcox('ogt')"
   ]
  },
  {
   "cell_type": "code",
   "execution_count": 97,
   "metadata": {},
   "outputs": [
    {
     "name": "stderr",
     "output_type": "stream",
     "text": [
      "/apps/Vera/software/MPI/GCC-CUDA/6.4.0-2.28-9.1.85/OpenMPI/2.1.2/Python/3.6.7/lib/python3.6/site-packages/scipy-1.1.0-py3.6-linux-x86_64.egg/scipy/stats/morestats.py:900: RuntimeWarning: divide by zero encountered in log\n",
      "  llf -= N / 2.0 * np.log(np.sum((y - y_mean)**2. / N, axis=0))\n",
      "/apps/Vera/software/MPI/GCC-CUDA/6.4.0-2.28-9.1.85/OpenMPI/2.1.2/Python/3.6.7/lib/python3.6/site-packages/scipy-1.1.0-py3.6-linux-x86_64.egg/scipy/optimize/optimize.py:1928: RuntimeWarning: invalid value encountered in double_scalars\n",
      "  p = (x - v) * tmp2 - (x - w) * tmp1\n",
      "/apps/Vera/software/MPI/GCC-CUDA/6.4.0-2.28-9.1.85/OpenMPI/2.1.2/Python/3.6.7/lib/python3.6/site-packages/scipy-1.1.0-py3.6-linux-x86_64.egg/scipy/optimize/optimize.py:1929: RuntimeWarning: invalid value encountered in double_scalars\n",
      "  tmp2 = 2.0 * (tmp2 - tmp1)\n",
      "/apps/Vera/software/MPI/GCC-CUDA/6.4.0-2.28-9.1.85/OpenMPI/2.1.2/Python/3.6.7/lib/python3.6/site-packages/scipy-1.1.0-py3.6-linux-x86_64.egg/scipy/optimize/optimize.py:1927: RuntimeWarning: invalid value encountered in double_scalars\n",
      "  tmp2 = (x - v) * (fx - fw)\n",
      "/apps/Vera/software/MPI/GCC-CUDA/6.4.0-2.28-9.1.85/OpenMPI/2.1.2/Python/3.6.7/lib/python3.6/site-packages/scipy-1.1.0-py3.6-linux-x86_64.egg/scipy/optimize/optimize.py:1926: RuntimeWarning: invalid value encountered in double_scalars\n",
      "  tmp1 = (x - w) * (fx - fv)\n"
     ]
    },
    {
     "data": {
      "text/html": [
       "<div>\n",
       "<style scoped>\n",
       "    .dataframe tbody tr th:only-of-type {\n",
       "        vertical-align: middle;\n",
       "    }\n",
       "\n",
       "    .dataframe tbody tr th {\n",
       "        vertical-align: top;\n",
       "    }\n",
       "\n",
       "    .dataframe thead th {\n",
       "        text-align: right;\n",
       "    }\n",
       "</style>\n",
       "<table border=\"1\" class=\"dataframe\">\n",
       "  <thead>\n",
       "    <tr style=\"text-align: right;\">\n",
       "      <th></th>\n",
       "      <th>AA</th>\n",
       "      <th>AC</th>\n",
       "      <th>AD</th>\n",
       "      <th>AE</th>\n",
       "      <th>AF</th>\n",
       "      <th>AG</th>\n",
       "      <th>AH</th>\n",
       "      <th>AI</th>\n",
       "      <th>AK</th>\n",
       "      <th>AL</th>\n",
       "      <th>...</th>\n",
       "      <th>YN</th>\n",
       "      <th>YP</th>\n",
       "      <th>YQ</th>\n",
       "      <th>YR</th>\n",
       "      <th>YS</th>\n",
       "      <th>YT</th>\n",
       "      <th>YV</th>\n",
       "      <th>YW</th>\n",
       "      <th>YY</th>\n",
       "      <th>ogt</th>\n",
       "    </tr>\n",
       "  </thead>\n",
       "  <tbody>\n",
       "    <tr>\n",
       "      <th>shewanella_algae</th>\n",
       "      <td>-2.362916</td>\n",
       "      <td>-1.075018</td>\n",
       "      <td>-2.314342</td>\n",
       "      <td>-1.481795</td>\n",
       "      <td>-1.130192</td>\n",
       "      <td>-2.270701</td>\n",
       "      <td>-1.347736</td>\n",
       "      <td>-0.501177</td>\n",
       "      <td>-1.006570</td>\n",
       "      <td>-1.463670</td>\n",
       "      <td>...</td>\n",
       "      <td>-9.975257</td>\n",
       "      <td>-7.698881</td>\n",
       "      <td>-6.642421</td>\n",
       "      <td>-42.980356</td>\n",
       "      <td>-4.024851</td>\n",
       "      <td>-40.340735</td>\n",
       "      <td>-20336.646860</td>\n",
       "      <td>-6.775626</td>\n",
       "      <td>-8.402642</td>\n",
       "      <td>28.0</td>\n",
       "    </tr>\n",
       "    <tr>\n",
       "      <th>ochrobactrum_rhizosphaerae</th>\n",
       "      <td>-2.310003</td>\n",
       "      <td>-1.075635</td>\n",
       "      <td>-2.298444</td>\n",
       "      <td>-1.482155</td>\n",
       "      <td>-1.128645</td>\n",
       "      <td>-2.232078</td>\n",
       "      <td>-1.345743</td>\n",
       "      <td>-0.501167</td>\n",
       "      <td>-1.007080</td>\n",
       "      <td>-1.466658</td>\n",
       "      <td>...</td>\n",
       "      <td>-10.500454</td>\n",
       "      <td>-8.017738</td>\n",
       "      <td>-7.745829</td>\n",
       "      <td>-49.745276</td>\n",
       "      <td>-4.171423</td>\n",
       "      <td>-41.116900</td>\n",
       "      <td>-15934.927381</td>\n",
       "      <td>-7.020136</td>\n",
       "      <td>-8.969434</td>\n",
       "      <td>28.0</td>\n",
       "    </tr>\n",
       "    <tr>\n",
       "      <th>sphingomonas_haloaromaticamans</th>\n",
       "      <td>-2.172528</td>\n",
       "      <td>-1.075211</td>\n",
       "      <td>-2.237756</td>\n",
       "      <td>-1.474734</td>\n",
       "      <td>-1.128230</td>\n",
       "      <td>-2.158965</td>\n",
       "      <td>-1.343648</td>\n",
       "      <td>-0.501163</td>\n",
       "      <td>-1.008271</td>\n",
       "      <td>-1.453628</td>\n",
       "      <td>...</td>\n",
       "      <td>-11.163983</td>\n",
       "      <td>-8.156455</td>\n",
       "      <td>-7.948180</td>\n",
       "      <td>-45.205008</td>\n",
       "      <td>-4.243804</td>\n",
       "      <td>-44.406229</td>\n",
       "      <td>-19554.345436</td>\n",
       "      <td>-7.065438</td>\n",
       "      <td>-8.985526</td>\n",
       "      <td>30.0</td>\n",
       "    </tr>\n",
       "    <tr>\n",
       "      <th>kurthia_massiliensis</th>\n",
       "      <td>-2.447621</td>\n",
       "      <td>-1.075854</td>\n",
       "      <td>-2.354516</td>\n",
       "      <td>-1.491869</td>\n",
       "      <td>-1.129945</td>\n",
       "      <td>-2.316399</td>\n",
       "      <td>-1.347137</td>\n",
       "      <td>-0.501170</td>\n",
       "      <td>-1.005963</td>\n",
       "      <td>-1.482810</td>\n",
       "      <td>...</td>\n",
       "      <td>-9.022075</td>\n",
       "      <td>-7.848987</td>\n",
       "      <td>-7.219794</td>\n",
       "      <td>-50.737425</td>\n",
       "      <td>-4.088692</td>\n",
       "      <td>-29.570639</td>\n",
       "      <td>-6794.234627</td>\n",
       "      <td>-7.141920</td>\n",
       "      <td>-7.677995</td>\n",
       "      <td>28.0</td>\n",
       "    </tr>\n",
       "    <tr>\n",
       "      <th>bacillus_ligniniphilus</th>\n",
       "      <td>-2.475530</td>\n",
       "      <td>-1.075938</td>\n",
       "      <td>-2.387700</td>\n",
       "      <td>-1.492593</td>\n",
       "      <td>-1.130188</td>\n",
       "      <td>-2.316272</td>\n",
       "      <td>-1.349378</td>\n",
       "      <td>-0.501173</td>\n",
       "      <td>-1.006974</td>\n",
       "      <td>-1.486954</td>\n",
       "      <td>...</td>\n",
       "      <td>-9.674156</td>\n",
       "      <td>-7.757888</td>\n",
       "      <td>-7.017241</td>\n",
       "      <td>-50.536983</td>\n",
       "      <td>-4.070174</td>\n",
       "      <td>-35.473369</td>\n",
       "      <td>-10382.325962</td>\n",
       "      <td>-7.050773</td>\n",
       "      <td>-8.018475</td>\n",
       "      <td>30.0</td>\n",
       "    </tr>\n",
       "  </tbody>\n",
       "</table>\n",
       "<p>5 rows × 401 columns</p>\n",
       "</div>"
      ],
      "text/plain": [
       "                                      AA        AC        AD        AE  \\\n",
       "shewanella_algae               -2.362916 -1.075018 -2.314342 -1.481795   \n",
       "ochrobactrum_rhizosphaerae     -2.310003 -1.075635 -2.298444 -1.482155   \n",
       "sphingomonas_haloaromaticamans -2.172528 -1.075211 -2.237756 -1.474734   \n",
       "kurthia_massiliensis           -2.447621 -1.075854 -2.354516 -1.491869   \n",
       "bacillus_ligniniphilus         -2.475530 -1.075938 -2.387700 -1.492593   \n",
       "\n",
       "                                      AF        AG        AH        AI  \\\n",
       "shewanella_algae               -1.130192 -2.270701 -1.347736 -0.501177   \n",
       "ochrobactrum_rhizosphaerae     -1.128645 -2.232078 -1.345743 -0.501167   \n",
       "sphingomonas_haloaromaticamans -1.128230 -2.158965 -1.343648 -0.501163   \n",
       "kurthia_massiliensis           -1.129945 -2.316399 -1.347137 -0.501170   \n",
       "bacillus_ligniniphilus         -1.130188 -2.316272 -1.349378 -0.501173   \n",
       "\n",
       "                                      AK        AL  ...          YN        YP  \\\n",
       "shewanella_algae               -1.006570 -1.463670  ...   -9.975257 -7.698881   \n",
       "ochrobactrum_rhizosphaerae     -1.007080 -1.466658  ...  -10.500454 -8.017738   \n",
       "sphingomonas_haloaromaticamans -1.008271 -1.453628  ...  -11.163983 -8.156455   \n",
       "kurthia_massiliensis           -1.005963 -1.482810  ...   -9.022075 -7.848987   \n",
       "bacillus_ligniniphilus         -1.006974 -1.486954  ...   -9.674156 -7.757888   \n",
       "\n",
       "                                      YQ         YR        YS         YT  \\\n",
       "shewanella_algae               -6.642421 -42.980356 -4.024851 -40.340735   \n",
       "ochrobactrum_rhizosphaerae     -7.745829 -49.745276 -4.171423 -41.116900   \n",
       "sphingomonas_haloaromaticamans -7.948180 -45.205008 -4.243804 -44.406229   \n",
       "kurthia_massiliensis           -7.219794 -50.737425 -4.088692 -29.570639   \n",
       "bacillus_ligniniphilus         -7.017241 -50.536983 -4.070174 -35.473369   \n",
       "\n",
       "                                          YV        YW        YY   ogt  \n",
       "shewanella_algae               -20336.646860 -6.775626 -8.402642  28.0  \n",
       "ochrobactrum_rhizosphaerae     -15934.927381 -7.020136 -8.969434  28.0  \n",
       "sphingomonas_haloaromaticamans -19554.345436 -7.065438 -8.985526  30.0  \n",
       "kurthia_massiliensis            -6794.234627 -7.141920 -7.677995  28.0  \n",
       "bacillus_ligniniphilus         -10382.325962 -7.050773 -8.018475  30.0  \n",
       "\n",
       "[5 rows x 401 columns]"
      ]
     },
     "execution_count": 97,
     "metadata": {},
     "output_type": "execute_result"
    }
   ],
   "source": [
    "dfboxcox = dfsel.copy()\n",
    "for col in dfboxcox.columns[:-1]:\n",
    "    dfboxcox[col] = stats.boxcox(dfboxcox[col])[0]\n",
    "dfboxcox.head()"
   ]
  },
  {
   "cell_type": "markdown",
   "metadata": {},
   "source": [
    "#### Check how many new ones can be found in BacDive latest version"
   ]
  },
  {
   "cell_type": "code",
   "execution_count": 69,
   "metadata": {},
   "outputs": [],
   "source": [
    "dfbac = pd.read_csv('../data/BacDive_parsed.tsv',sep='\\t',index_col=0)\n",
    "dfnot = pd.read_csv('../data/dimer_not_classified_left.csv',index_col=0)"
   ]
  },
  {
   "cell_type": "code",
   "execution_count": 70,
   "metadata": {},
   "outputs": [
    {
     "name": "stdout",
     "output_type": "stream",
     "text": [
      "14430\n"
     ]
    }
   ],
   "source": [
    "orgs = set(dfbac.index)\n",
    "print(len(orgs))"
   ]
  },
  {
   "cell_type": "code",
   "execution_count": 72,
   "metadata": {},
   "outputs": [
    {
     "name": "stdout",
     "output_type": "stream",
     "text": [
      "206\n"
     ]
    }
   ],
   "source": [
    "c = 0\n",
    "orgs_new = []\n",
    "ogts_new = []\n",
    "for org in orgs:\n",
    "    format_org = org.lower().replace(' ','_')\n",
    "    if format_org in dfnot.index:\n",
    "        c+=1\n",
    "        orgs_new.append(format_org)\n",
    "        ogts_new.append(np.mean(dfbac.loc[org,'temperature']))\n",
    "print(c)"
   ]
  },
  {
   "cell_type": "code",
   "execution_count": 75,
   "metadata": {},
   "outputs": [
    {
     "data": {
      "image/png": "[encoded data removed]",
      "text/plain": [
       "<Figure size 288x216 with 1 Axes>"
      ]
     },
     "metadata": {
      "needs_background": "light"
     },
     "output_type": "display_data"
    }
   ],
   "source": [
    "plt.figure(figsize=(4,3))\n",
    "plt.hist(ogts_new,50)\n",
    "plt.xlabel('OGT ($\\circ$C)')\n",
    "plt.ylabel('Count')\n",
    "plt.title('New OGTs')\n",
    "plt.show()"
   ]
  },
  {
   "cell_type": "code",
   "execution_count": 67,
   "metadata": {},
   "outputs": [
    {
     "data": {
      "text/plain": [
       "['Halomonas stevensii',\n",
       " 'Planifilum composti',\n",
       " 'Flavobacterium collinsense',\n",
       " 'Pseudoalteromonas telluritireducens',\n",
       " 'Gulosibacter molinativorax',\n",
       " 'Leclercia sp.',\n",
       " 'Nocardioides albidus',\n",
       " 'Bradyrhizobium subterraneum',\n",
       " 'Massilia neuiana',\n",
       " 'Sporolactobacillus spathodeae']"
      ]
     },
     "execution_count": 67,
     "metadata": {},
     "output_type": "execute_result"
    }
   ],
   "source": [
    "list(orgs)[:10]"
   ]
  },
  {
   "cell_type": "code",
   "execution_count": 68,
   "metadata": {},
   "outputs": [
    {
     "data": {
      "text/plain": [
       "Index(['bacillus_glycinifermentans', 'mucinivorans_hirudinis',\n",
       "       'traorella_massiliensis', 'ruminococcaceae_bacterium',\n",
       "       'curtobacterium_oceanosedimentum', 'enterocytozoon_hepatopenaei',\n",
       "       'baudoinia_panamericana', 'spirosoma_montaniterrae',\n",
       "       'burkholderia_territorii', 'aeromonas_aquatica'],\n",
       "      dtype='object')"
      ]
     },
     "execution_count": 68,
     "metadata": {},
     "output_type": "execute_result"
    }
   ],
   "source": [
    "dfnot.index[:10]"
   ]
  },
  {
   "cell_type": "markdown",
   "metadata": {},
   "source": [
    "### Split based on kingdom"
   ]
  },
  {
   "cell_type": "code",
   "execution_count": 28,
   "metadata": {},
   "outputs": [],
   "source": [
    "def load_kingdom_info():\n",
    "    org2kingdom = dict()\n",
    "    # source 1: classfied and unclassified data\n",
    "    # classified\n",
    "    cfile = '../tome1.0_paper_data/AA_Dip_OGT_strain_classified.csv'\n",
    "    dfc = pd.read_csv(cfile,index_col=0)\n",
    "    for ind in dfc.index: \n",
    "        org = clean_index(ind)\n",
    "        kd = ind.split('_')[-1]\n",
    "        kd = kd.replace('eukaryotes','eukaryota')\n",
    "        org2kingdom[org] = kd\n",
    "    \n",
    "    # not classified\n",
    "    nfile = '../tome1.0_paper_data/Not_classified_With_org_name_After_filter.csv'\n",
    "    dfn = pd.read_csv(nfile,index_col=0)\n",
    "    for ind in dfn.index:\n",
    "        org = ind.replace('_archaea','').replace('_bacteria','').replace('_eukaryotes','')\n",
    "        kd = org.split('_')[-1]\n",
    "        kd = kd.replace('eukaryotes','eukaryota')\n",
    "        if kd in ['archaea','bacteria','eukaryota']: org2kingdom[org] = kd\n",
    "\n",
    "    # manually checked from literatures for those ones in not classified\n",
    "    expfile = '../tome1.0_paper_data/selected_for_literature_verification_processed_with_OGT_data.tsv'\n",
    "    dfexp = pd.read_csv(expfile,index_col=0,sep='\\t')\n",
    "    for ind in dfexp.index:\n",
    "        org = ind.replace('_archaea','').replace('_bacteria','').replace('_eukaryotes','')\n",
    "        kd = org.split('_')[-1]\n",
    "        kd = kd.replace('eukaryotes','eukaryota')\n",
    "        if kd in ['archaea','bacteria','eukaryota']: org2kingdom[org] = kd\n",
    "    \n",
    "    # From new BacDive\n",
    "    dfbac = pd.read_csv('../data/BacDive_parsed.tsv',sep='\\t')\n",
    "    for ind in dfbac.index:\n",
    "        org = dfbac.loc[ind,'organism'].lower().replace(' ','_')\n",
    "        kd = dfbac.loc[ind,'domain'].lower()\n",
    "        if kd == 'none': continue\n",
    "        org2kingdom[org] = kd\n",
    "    \n",
    "    print(len(org2kingdom))\n",
    "    return org2kingdom"
   ]
  },
  {
   "cell_type": "code",
   "execution_count": 29,
   "metadata": {},
   "outputs": [
    {
     "name": "stdout",
     "output_type": "stream",
     "text": [
      "14957\n"
     ]
    }
   ],
   "source": [
    "org2kingdom = load_kingdom_info()"
   ]
  },
  {
   "cell_type": "code",
   "execution_count": 30,
   "metadata": {},
   "outputs": [
    {
     "data": {
      "text/plain": [
       "{'archaea', 'bacteria', 'eukaryota'}"
      ]
     },
     "execution_count": 30,
     "metadata": {},
     "output_type": "execute_result"
    }
   ],
   "source": [
    "set(org2kingdom.values())"
   ]
  },
  {
   "cell_type": "code",
   "execution_count": 31,
   "metadata": {},
   "outputs": [],
   "source": [
    "df = pd.read_csv('../data/dimer_updated_with_madin_bowman.csv',index_col=0)"
   ]
  },
  {
   "cell_type": "code",
   "execution_count": 37,
   "metadata": {},
   "outputs": [
    {
     "name": "stdout",
     "output_type": "stream",
     "text": [
      "There are 5775/6020 organisms can be mapped to domains\n"
     ]
    }
   ],
   "source": [
    "domain = []\n",
    "mapped_orgs = []\n",
    "for ind in df.index:\n",
    "    kd = org2kingdom.get(ind)\n",
    "    if kd is None: continue\n",
    "    domain.append(kd)\n",
    "    mapped_orgs.append(ind)\n",
    "    \n",
    "print('There are {0}/{1} organisms can be mapped to domains'.format(len(domain),df.shape[0]))"
   ]
  },
  {
   "cell_type": "code",
   "execution_count": 39,
   "metadata": {},
   "outputs": [
    {
     "data": {
      "text/plain": [
       "(5775, 402)"
      ]
     },
     "execution_count": 39,
     "metadata": {},
     "output_type": "execute_result"
    }
   ],
   "source": [
    "dfmapped = df.loc[mapped_orgs,:]\n",
    "dfmapped['domain'] = domain\n",
    "dfmapped.shape"
   ]
  },
  {
   "cell_type": "code",
   "execution_count": 40,
   "metadata": {},
   "outputs": [
    {
     "data": {
      "text/html": [
       "<div>\n",
       "<style scoped>\n",
       "    .dataframe tbody tr th:only-of-type {\n",
       "        vertical-align: middle;\n",
       "    }\n",
       "\n",
       "    .dataframe tbody tr th {\n",
       "        vertical-align: top;\n",
       "    }\n",
       "\n",
       "    .dataframe thead th {\n",
       "        text-align: right;\n",
       "    }\n",
       "</style>\n",
       "<table border=\"1\" class=\"dataframe\">\n",
       "  <thead>\n",
       "    <tr style=\"text-align: right;\">\n",
       "      <th></th>\n",
       "      <th>AA</th>\n",
       "      <th>AC</th>\n",
       "      <th>AD</th>\n",
       "      <th>AE</th>\n",
       "      <th>AF</th>\n",
       "      <th>AG</th>\n",
       "      <th>AH</th>\n",
       "      <th>AI</th>\n",
       "      <th>AK</th>\n",
       "      <th>AL</th>\n",
       "      <th>...</th>\n",
       "      <th>YP</th>\n",
       "      <th>YQ</th>\n",
       "      <th>YR</th>\n",
       "      <th>YS</th>\n",
       "      <th>YT</th>\n",
       "      <th>YV</th>\n",
       "      <th>YW</th>\n",
       "      <th>YY</th>\n",
       "      <th>ogt</th>\n",
       "      <th>domain</th>\n",
       "    </tr>\n",
       "  </thead>\n",
       "  <tbody>\n",
       "    <tr>\n",
       "      <th>allobaculum_stercoricanis</th>\n",
       "      <td>0.005367</td>\n",
       "      <td>0.001105</td>\n",
       "      <td>0.003809</td>\n",
       "      <td>0.003263</td>\n",
       "      <td>0.002990</td>\n",
       "      <td>0.004836</td>\n",
       "      <td>0.001432</td>\n",
       "      <td>0.006074</td>\n",
       "      <td>0.005794</td>\n",
       "      <td>0.007877</td>\n",
       "      <td>...</td>\n",
       "      <td>0.001648</td>\n",
       "      <td>0.001823</td>\n",
       "      <td>0.001773</td>\n",
       "      <td>0.002474</td>\n",
       "      <td>0.002147</td>\n",
       "      <td>0.002305</td>\n",
       "      <td>0.000403</td>\n",
       "      <td>0.001534</td>\n",
       "      <td>37.0</td>\n",
       "      <td>bacteria</td>\n",
       "    </tr>\n",
       "    <tr>\n",
       "      <th>shewanella_algae</th>\n",
       "      <td>0.010752</td>\n",
       "      <td>0.001212</td>\n",
       "      <td>0.005580</td>\n",
       "      <td>0.007041</td>\n",
       "      <td>0.003622</td>\n",
       "      <td>0.007179</td>\n",
       "      <td>0.001718</td>\n",
       "      <td>0.005544</td>\n",
       "      <td>0.005156</td>\n",
       "      <td>0.012491</td>\n",
       "      <td>...</td>\n",
       "      <td>0.001440</td>\n",
       "      <td>0.002096</td>\n",
       "      <td>0.002270</td>\n",
       "      <td>0.002069</td>\n",
       "      <td>0.001223</td>\n",
       "      <td>0.001472</td>\n",
       "      <td>0.000515</td>\n",
       "      <td>0.000947</td>\n",
       "      <td>28.0</td>\n",
       "      <td>bacteria</td>\n",
       "    </tr>\n",
       "    <tr>\n",
       "      <th>bifidobacterium_saguini</th>\n",
       "      <td>0.013873</td>\n",
       "      <td>0.001048</td>\n",
       "      <td>0.007266</td>\n",
       "      <td>0.006288</td>\n",
       "      <td>0.003457</td>\n",
       "      <td>0.008843</td>\n",
       "      <td>0.002224</td>\n",
       "      <td>0.005884</td>\n",
       "      <td>0.005065</td>\n",
       "      <td>0.010067</td>\n",
       "      <td>...</td>\n",
       "      <td>0.001298</td>\n",
       "      <td>0.001138</td>\n",
       "      <td>0.001713</td>\n",
       "      <td>0.001673</td>\n",
       "      <td>0.001711</td>\n",
       "      <td>0.002072</td>\n",
       "      <td>0.000453</td>\n",
       "      <td>0.000926</td>\n",
       "      <td>37.0</td>\n",
       "      <td>bacteria</td>\n",
       "    </tr>\n",
       "    <tr>\n",
       "      <th>ochrobactrum_rhizosphaerae</th>\n",
       "      <td>0.013460</td>\n",
       "      <td>0.000835</td>\n",
       "      <td>0.006199</td>\n",
       "      <td>0.006978</td>\n",
       "      <td>0.004413</td>\n",
       "      <td>0.009027</td>\n",
       "      <td>0.002097</td>\n",
       "      <td>0.007038</td>\n",
       "      <td>0.004678</td>\n",
       "      <td>0.011873</td>\n",
       "      <td>...</td>\n",
       "      <td>0.001143</td>\n",
       "      <td>0.000817</td>\n",
       "      <td>0.001730</td>\n",
       "      <td>0.001412</td>\n",
       "      <td>0.001173</td>\n",
       "      <td>0.001715</td>\n",
       "      <td>0.000378</td>\n",
       "      <td>0.000642</td>\n",
       "      <td>28.0</td>\n",
       "      <td>bacteria</td>\n",
       "    </tr>\n",
       "    <tr>\n",
       "      <th>sphingomonas_haloaromaticamans</th>\n",
       "      <td>0.022561</td>\n",
       "      <td>0.001093</td>\n",
       "      <td>0.008958</td>\n",
       "      <td>0.008309</td>\n",
       "      <td>0.004629</td>\n",
       "      <td>0.013291</td>\n",
       "      <td>0.002516</td>\n",
       "      <td>0.007588</td>\n",
       "      <td>0.003563</td>\n",
       "      <td>0.014646</td>\n",
       "      <td>...</td>\n",
       "      <td>0.001035</td>\n",
       "      <td>0.000689</td>\n",
       "      <td>0.002068</td>\n",
       "      <td>0.001160</td>\n",
       "      <td>0.000992</td>\n",
       "      <td>0.001508</td>\n",
       "      <td>0.000357</td>\n",
       "      <td>0.000635</td>\n",
       "      <td>30.0</td>\n",
       "      <td>bacteria</td>\n",
       "    </tr>\n",
       "  </tbody>\n",
       "</table>\n",
       "<p>5 rows × 402 columns</p>\n",
       "</div>"
      ],
      "text/plain": [
       "                                      AA        AC        AD        AE  \\\n",
       "allobaculum_stercoricanis       0.005367  0.001105  0.003809  0.003263   \n",
       "shewanella_algae                0.010752  0.001212  0.005580  0.007041   \n",
       "bifidobacterium_saguini         0.013873  0.001048  0.007266  0.006288   \n",
       "ochrobactrum_rhizosphaerae      0.013460  0.000835  0.006199  0.006978   \n",
       "sphingomonas_haloaromaticamans  0.022561  0.001093  0.008958  0.008309   \n",
       "\n",
       "                                      AF        AG        AH        AI  \\\n",
       "allobaculum_stercoricanis       0.002990  0.004836  0.001432  0.006074   \n",
       "shewanella_algae                0.003622  0.007179  0.001718  0.005544   \n",
       "bifidobacterium_saguini         0.003457  0.008843  0.002224  0.005884   \n",
       "ochrobactrum_rhizosphaerae      0.004413  0.009027  0.002097  0.007038   \n",
       "sphingomonas_haloaromaticamans  0.004629  0.013291  0.002516  0.007588   \n",
       "\n",
       "                                      AK        AL    ...           YP  \\\n",
       "allobaculum_stercoricanis       0.005794  0.007877    ...     0.001648   \n",
       "shewanella_algae                0.005156  0.012491    ...     0.001440   \n",
       "bifidobacterium_saguini         0.005065  0.010067    ...     0.001298   \n",
       "ochrobactrum_rhizosphaerae      0.004678  0.011873    ...     0.001143   \n",
       "sphingomonas_haloaromaticamans  0.003563  0.014646    ...     0.001035   \n",
       "\n",
       "                                      YQ        YR        YS        YT  \\\n",
       "allobaculum_stercoricanis       0.001823  0.001773  0.002474  0.002147   \n",
       "shewanella_algae                0.002096  0.002270  0.002069  0.001223   \n",
       "bifidobacterium_saguini         0.001138  0.001713  0.001673  0.001711   \n",
       "ochrobactrum_rhizosphaerae      0.000817  0.001730  0.001412  0.001173   \n",
       "sphingomonas_haloaromaticamans  0.000689  0.002068  0.001160  0.000992   \n",
       "\n",
       "                                      YV        YW        YY   ogt    domain  \n",
       "allobaculum_stercoricanis       0.002305  0.000403  0.001534  37.0  bacteria  \n",
       "shewanella_algae                0.001472  0.000515  0.000947  28.0  bacteria  \n",
       "bifidobacterium_saguini         0.002072  0.000453  0.000926  37.0  bacteria  \n",
       "ochrobactrum_rhizosphaerae      0.001715  0.000378  0.000642  28.0  bacteria  \n",
       "sphingomonas_haloaromaticamans  0.001508  0.000357  0.000635  30.0  bacteria  \n",
       "\n",
       "[5 rows x 402 columns]"
      ]
     },
     "execution_count": 40,
     "metadata": {},
     "output_type": "execute_result"
    }
   ],
   "source": [
    "dfmapped.head(5)"
   ]
  },
  {
   "cell_type": "code",
   "execution_count": 41,
   "metadata": {},
   "outputs": [],
   "source": [
    "dfmapped.to_csv('../data/dimer_updated_with_madin_bowman_kingdom.csv')"
   ]
  },
  {
   "cell_type": "code",
   "execution_count": 54,
   "metadata": {
    "scrolled": false
   },
   "outputs": [],
   "source": [
    "for kd in ['archaea','bacteria','eukaryota']:\n",
    "    dfkd = dfmapped.loc[dfmapped['domain']==kd]\n",
    "    dfkd=dfkd.drop(columns=['domain'])\n",
    "    dfkd.to_csv('../data/dimer_updated_with_madin_bowman_kingdom_{0}.csv'.format(kd))"
   ]
  },
  {
   "cell_type": "code",
   "execution_count": 52,
   "metadata": {},
   "outputs": [
    {
     "name": "stdout",
     "output_type": "stream",
     "text": [
      "../data/dimer_updated_with_madin_bowman_kingdom_archaea.csv\r\n",
      "../data/dimer_updated_with_madin_bowman_kingdom_bacteria.csv\r\n",
      "../data/dimer_updated_with_madin_bowman_kingdom_eukaryota.csv\r\n"
     ]
    }
   ],
   "source": [
    "!ls ../data/dimer_updated_with_madin_bowman_kingdom_*"
   ]
  },
  {
   "cell_type": "code",
   "execution_count": 55,
   "metadata": {},
   "outputs": [
    {
     "name": "stdout",
     "output_type": "stream",
     "text": [
      "(5775, 404)\n"
     ]
    },
    {
     "data": {
      "text/html": [
       "<div>\n",
       "<style scoped>\n",
       "    .dataframe tbody tr th:only-of-type {\n",
       "        vertical-align: middle;\n",
       "    }\n",
       "\n",
       "    .dataframe tbody tr th {\n",
       "        vertical-align: top;\n",
       "    }\n",
       "\n",
       "    .dataframe thead th {\n",
       "        text-align: right;\n",
       "    }\n",
       "</style>\n",
       "<table border=\"1\" class=\"dataframe\">\n",
       "  <thead>\n",
       "    <tr style=\"text-align: right;\">\n",
       "      <th></th>\n",
       "      <th>eukaryota</th>\n",
       "      <th>bacteria</th>\n",
       "      <th>archaea</th>\n",
       "      <th>AA</th>\n",
       "      <th>AC</th>\n",
       "      <th>AD</th>\n",
       "      <th>AE</th>\n",
       "      <th>AF</th>\n",
       "      <th>AG</th>\n",
       "      <th>AH</th>\n",
       "      <th>...</th>\n",
       "      <th>YN</th>\n",
       "      <th>YP</th>\n",
       "      <th>YQ</th>\n",
       "      <th>YR</th>\n",
       "      <th>YS</th>\n",
       "      <th>YT</th>\n",
       "      <th>YV</th>\n",
       "      <th>YW</th>\n",
       "      <th>YY</th>\n",
       "      <th>ogt</th>\n",
       "    </tr>\n",
       "  </thead>\n",
       "  <tbody>\n",
       "    <tr>\n",
       "      <th>allobaculum_stercoricanis</th>\n",
       "      <td>0</td>\n",
       "      <td>1</td>\n",
       "      <td>0</td>\n",
       "      <td>0.005367</td>\n",
       "      <td>0.001105</td>\n",
       "      <td>0.003809</td>\n",
       "      <td>0.003263</td>\n",
       "      <td>0.002990</td>\n",
       "      <td>0.004836</td>\n",
       "      <td>0.001432</td>\n",
       "      <td>...</td>\n",
       "      <td>0.001727</td>\n",
       "      <td>0.001648</td>\n",
       "      <td>0.001823</td>\n",
       "      <td>0.001773</td>\n",
       "      <td>0.002474</td>\n",
       "      <td>0.002147</td>\n",
       "      <td>0.002305</td>\n",
       "      <td>0.000403</td>\n",
       "      <td>0.001534</td>\n",
       "      <td>37.0</td>\n",
       "    </tr>\n",
       "    <tr>\n",
       "      <th>shewanella_algae</th>\n",
       "      <td>0</td>\n",
       "      <td>1</td>\n",
       "      <td>0</td>\n",
       "      <td>0.010752</td>\n",
       "      <td>0.001212</td>\n",
       "      <td>0.005580</td>\n",
       "      <td>0.007041</td>\n",
       "      <td>0.003622</td>\n",
       "      <td>0.007179</td>\n",
       "      <td>0.001718</td>\n",
       "      <td>...</td>\n",
       "      <td>0.001011</td>\n",
       "      <td>0.001440</td>\n",
       "      <td>0.002096</td>\n",
       "      <td>0.002270</td>\n",
       "      <td>0.002069</td>\n",
       "      <td>0.001223</td>\n",
       "      <td>0.001472</td>\n",
       "      <td>0.000515</td>\n",
       "      <td>0.000947</td>\n",
       "      <td>28.0</td>\n",
       "    </tr>\n",
       "    <tr>\n",
       "      <th>bifidobacterium_saguini</th>\n",
       "      <td>0</td>\n",
       "      <td>1</td>\n",
       "      <td>0</td>\n",
       "      <td>0.013873</td>\n",
       "      <td>0.001048</td>\n",
       "      <td>0.007266</td>\n",
       "      <td>0.006288</td>\n",
       "      <td>0.003457</td>\n",
       "      <td>0.008843</td>\n",
       "      <td>0.002224</td>\n",
       "      <td>...</td>\n",
       "      <td>0.000994</td>\n",
       "      <td>0.001298</td>\n",
       "      <td>0.001138</td>\n",
       "      <td>0.001713</td>\n",
       "      <td>0.001673</td>\n",
       "      <td>0.001711</td>\n",
       "      <td>0.002072</td>\n",
       "      <td>0.000453</td>\n",
       "      <td>0.000926</td>\n",
       "      <td>37.0</td>\n",
       "    </tr>\n",
       "    <tr>\n",
       "      <th>ochrobactrum_rhizosphaerae</th>\n",
       "      <td>0</td>\n",
       "      <td>1</td>\n",
       "      <td>0</td>\n",
       "      <td>0.013460</td>\n",
       "      <td>0.000835</td>\n",
       "      <td>0.006199</td>\n",
       "      <td>0.006978</td>\n",
       "      <td>0.004413</td>\n",
       "      <td>0.009027</td>\n",
       "      <td>0.002097</td>\n",
       "      <td>...</td>\n",
       "      <td>0.000781</td>\n",
       "      <td>0.001143</td>\n",
       "      <td>0.000817</td>\n",
       "      <td>0.001730</td>\n",
       "      <td>0.001412</td>\n",
       "      <td>0.001173</td>\n",
       "      <td>0.001715</td>\n",
       "      <td>0.000378</td>\n",
       "      <td>0.000642</td>\n",
       "      <td>28.0</td>\n",
       "    </tr>\n",
       "    <tr>\n",
       "      <th>sphingomonas_haloaromaticamans</th>\n",
       "      <td>0</td>\n",
       "      <td>1</td>\n",
       "      <td>0</td>\n",
       "      <td>0.022561</td>\n",
       "      <td>0.001093</td>\n",
       "      <td>0.008958</td>\n",
       "      <td>0.008309</td>\n",
       "      <td>0.004629</td>\n",
       "      <td>0.013291</td>\n",
       "      <td>0.002516</td>\n",
       "      <td>...</td>\n",
       "      <td>0.000569</td>\n",
       "      <td>0.001035</td>\n",
       "      <td>0.000689</td>\n",
       "      <td>0.002068</td>\n",
       "      <td>0.001160</td>\n",
       "      <td>0.000992</td>\n",
       "      <td>0.001508</td>\n",
       "      <td>0.000357</td>\n",
       "      <td>0.000635</td>\n",
       "      <td>30.0</td>\n",
       "    </tr>\n",
       "  </tbody>\n",
       "</table>\n",
       "<p>5 rows × 404 columns</p>\n",
       "</div>"
      ],
      "text/plain": [
       "                                eukaryota  bacteria  archaea        AA  \\\n",
       "allobaculum_stercoricanis               0         1        0  0.005367   \n",
       "shewanella_algae                        0         1        0  0.010752   \n",
       "bifidobacterium_saguini                 0         1        0  0.013873   \n",
       "ochrobactrum_rhizosphaerae              0         1        0  0.013460   \n",
       "sphingomonas_haloaromaticamans          0         1        0  0.022561   \n",
       "\n",
       "                                      AC        AD        AE        AF  \\\n",
       "allobaculum_stercoricanis       0.001105  0.003809  0.003263  0.002990   \n",
       "shewanella_algae                0.001212  0.005580  0.007041  0.003622   \n",
       "bifidobacterium_saguini         0.001048  0.007266  0.006288  0.003457   \n",
       "ochrobactrum_rhizosphaerae      0.000835  0.006199  0.006978  0.004413   \n",
       "sphingomonas_haloaromaticamans  0.001093  0.008958  0.008309  0.004629   \n",
       "\n",
       "                                      AG        AH  ...         YN        YP  \\\n",
       "allobaculum_stercoricanis       0.004836  0.001432  ...   0.001727  0.001648   \n",
       "shewanella_algae                0.007179  0.001718  ...   0.001011  0.001440   \n",
       "bifidobacterium_saguini         0.008843  0.002224  ...   0.000994  0.001298   \n",
       "ochrobactrum_rhizosphaerae      0.009027  0.002097  ...   0.000781  0.001143   \n",
       "sphingomonas_haloaromaticamans  0.013291  0.002516  ...   0.000569  0.001035   \n",
       "\n",
       "                                      YQ        YR        YS        YT  \\\n",
       "allobaculum_stercoricanis       0.001823  0.001773  0.002474  0.002147   \n",
       "shewanella_algae                0.002096  0.002270  0.002069  0.001223   \n",
       "bifidobacterium_saguini         0.001138  0.001713  0.001673  0.001711   \n",
       "ochrobactrum_rhizosphaerae      0.000817  0.001730  0.001412  0.001173   \n",
       "sphingomonas_haloaromaticamans  0.000689  0.002068  0.001160  0.000992   \n",
       "\n",
       "                                      YV        YW        YY   ogt  \n",
       "allobaculum_stercoricanis       0.002305  0.000403  0.001534  37.0  \n",
       "shewanella_algae                0.001472  0.000515  0.000947  28.0  \n",
       "bifidobacterium_saguini         0.002072  0.000453  0.000926  37.0  \n",
       "ochrobactrum_rhizosphaerae      0.001715  0.000378  0.000642  28.0  \n",
       "sphingomonas_haloaromaticamans  0.001508  0.000357  0.000635  30.0  \n",
       "\n",
       "[5 rows x 404 columns]"
      ]
     },
     "execution_count": 55,
     "metadata": {},
     "output_type": "execute_result"
    }
   ],
   "source": [
    "# encode kingdoms as three binary features\n",
    "dfmapped_bin = dfmapped.drop(columns=['domain'])\n",
    "for kd in ['archaea','bacteria','eukaryota']:\n",
    "    dfmapped_bin.insert(0,kd,[1 if dfmapped.loc[ind,'domain']==kd else 0 for ind in dfmapped_bin.index])\n",
    "print(dfmapped_bin.shape)\n",
    "dfmapped_bin.head(5)"
   ]
  },
  {
   "cell_type": "code",
   "execution_count": 56,
   "metadata": {},
   "outputs": [],
   "source": [
    "dfmapped_bin.to_csv('../data/dimer_updated_with_madin_bowman_kingdom_binary.csv')"
   ]
  },
  {
   "cell_type": "markdown",
   "metadata": {},
   "source": [
    "### Split higher lower than 40"
   ]
  },
  {
   "cell_type": "code",
   "execution_count": 69,
   "metadata": {},
   "outputs": [
    {
     "data": {
      "text/html": [
       "<div>\n",
       "<style scoped>\n",
       "    .dataframe tbody tr th:only-of-type {\n",
       "        vertical-align: middle;\n",
       "    }\n",
       "\n",
       "    .dataframe tbody tr th {\n",
       "        vertical-align: top;\n",
       "    }\n",
       "\n",
       "    .dataframe thead th {\n",
       "        text-align: right;\n",
       "    }\n",
       "</style>\n",
       "<table border=\"1\" class=\"dataframe\">\n",
       "  <thead>\n",
       "    <tr style=\"text-align: right;\">\n",
       "      <th></th>\n",
       "      <th>AA</th>\n",
       "      <th>AC</th>\n",
       "      <th>AD</th>\n",
       "      <th>AE</th>\n",
       "      <th>AF</th>\n",
       "      <th>AG</th>\n",
       "      <th>AH</th>\n",
       "      <th>AI</th>\n",
       "      <th>AK</th>\n",
       "      <th>AL</th>\n",
       "      <th>...</th>\n",
       "      <th>YN</th>\n",
       "      <th>YP</th>\n",
       "      <th>YQ</th>\n",
       "      <th>YR</th>\n",
       "      <th>YS</th>\n",
       "      <th>YT</th>\n",
       "      <th>YV</th>\n",
       "      <th>YW</th>\n",
       "      <th>YY</th>\n",
       "      <th>ogt</th>\n",
       "    </tr>\n",
       "  </thead>\n",
       "  <tbody>\n",
       "    <tr>\n",
       "      <th>allobaculum_stercoricanis</th>\n",
       "      <td>0.005367</td>\n",
       "      <td>0.001105</td>\n",
       "      <td>0.003809</td>\n",
       "      <td>0.003263</td>\n",
       "      <td>0.002990</td>\n",
       "      <td>0.004836</td>\n",
       "      <td>0.001432</td>\n",
       "      <td>0.006074</td>\n",
       "      <td>0.005794</td>\n",
       "      <td>0.007877</td>\n",
       "      <td>...</td>\n",
       "      <td>0.001727</td>\n",
       "      <td>0.001648</td>\n",
       "      <td>0.001823</td>\n",
       "      <td>0.001773</td>\n",
       "      <td>0.002474</td>\n",
       "      <td>0.002147</td>\n",
       "      <td>0.002305</td>\n",
       "      <td>0.000403</td>\n",
       "      <td>0.001534</td>\n",
       "      <td>37.0</td>\n",
       "    </tr>\n",
       "    <tr>\n",
       "      <th>shewanella_algae</th>\n",
       "      <td>0.010752</td>\n",
       "      <td>0.001212</td>\n",
       "      <td>0.005580</td>\n",
       "      <td>0.007041</td>\n",
       "      <td>0.003622</td>\n",
       "      <td>0.007179</td>\n",
       "      <td>0.001718</td>\n",
       "      <td>0.005544</td>\n",
       "      <td>0.005156</td>\n",
       "      <td>0.012491</td>\n",
       "      <td>...</td>\n",
       "      <td>0.001011</td>\n",
       "      <td>0.001440</td>\n",
       "      <td>0.002096</td>\n",
       "      <td>0.002270</td>\n",
       "      <td>0.002069</td>\n",
       "      <td>0.001223</td>\n",
       "      <td>0.001472</td>\n",
       "      <td>0.000515</td>\n",
       "      <td>0.000947</td>\n",
       "      <td>28.0</td>\n",
       "    </tr>\n",
       "    <tr>\n",
       "      <th>bifidobacterium_saguini</th>\n",
       "      <td>0.013873</td>\n",
       "      <td>0.001048</td>\n",
       "      <td>0.007266</td>\n",
       "      <td>0.006288</td>\n",
       "      <td>0.003457</td>\n",
       "      <td>0.008843</td>\n",
       "      <td>0.002224</td>\n",
       "      <td>0.005884</td>\n",
       "      <td>0.005065</td>\n",
       "      <td>0.010067</td>\n",
       "      <td>...</td>\n",
       "      <td>0.000994</td>\n",
       "      <td>0.001298</td>\n",
       "      <td>0.001138</td>\n",
       "      <td>0.001713</td>\n",
       "      <td>0.001673</td>\n",
       "      <td>0.001711</td>\n",
       "      <td>0.002072</td>\n",
       "      <td>0.000453</td>\n",
       "      <td>0.000926</td>\n",
       "      <td>37.0</td>\n",
       "    </tr>\n",
       "    <tr>\n",
       "      <th>ochrobactrum_rhizosphaerae</th>\n",
       "      <td>0.013460</td>\n",
       "      <td>0.000835</td>\n",
       "      <td>0.006199</td>\n",
       "      <td>0.006978</td>\n",
       "      <td>0.004413</td>\n",
       "      <td>0.009027</td>\n",
       "      <td>0.002097</td>\n",
       "      <td>0.007038</td>\n",
       "      <td>0.004678</td>\n",
       "      <td>0.011873</td>\n",
       "      <td>...</td>\n",
       "      <td>0.000781</td>\n",
       "      <td>0.001143</td>\n",
       "      <td>0.000817</td>\n",
       "      <td>0.001730</td>\n",
       "      <td>0.001412</td>\n",
       "      <td>0.001173</td>\n",
       "      <td>0.001715</td>\n",
       "      <td>0.000378</td>\n",
       "      <td>0.000642</td>\n",
       "      <td>28.0</td>\n",
       "    </tr>\n",
       "    <tr>\n",
       "      <th>sphingomonas_haloaromaticamans</th>\n",
       "      <td>0.022561</td>\n",
       "      <td>0.001093</td>\n",
       "      <td>0.008958</td>\n",
       "      <td>0.008309</td>\n",
       "      <td>0.004629</td>\n",
       "      <td>0.013291</td>\n",
       "      <td>0.002516</td>\n",
       "      <td>0.007588</td>\n",
       "      <td>0.003563</td>\n",
       "      <td>0.014646</td>\n",
       "      <td>...</td>\n",
       "      <td>0.000569</td>\n",
       "      <td>0.001035</td>\n",
       "      <td>0.000689</td>\n",
       "      <td>0.002068</td>\n",
       "      <td>0.001160</td>\n",
       "      <td>0.000992</td>\n",
       "      <td>0.001508</td>\n",
       "      <td>0.000357</td>\n",
       "      <td>0.000635</td>\n",
       "      <td>30.0</td>\n",
       "    </tr>\n",
       "  </tbody>\n",
       "</table>\n",
       "<p>5 rows × 401 columns</p>\n",
       "</div>"
      ],
      "text/plain": [
       "                                      AA        AC        AD        AE  \\\n",
       "allobaculum_stercoricanis       0.005367  0.001105  0.003809  0.003263   \n",
       "shewanella_algae                0.010752  0.001212  0.005580  0.007041   \n",
       "bifidobacterium_saguini         0.013873  0.001048  0.007266  0.006288   \n",
       "ochrobactrum_rhizosphaerae      0.013460  0.000835  0.006199  0.006978   \n",
       "sphingomonas_haloaromaticamans  0.022561  0.001093  0.008958  0.008309   \n",
       "\n",
       "                                      AF        AG        AH        AI  \\\n",
       "allobaculum_stercoricanis       0.002990  0.004836  0.001432  0.006074   \n",
       "shewanella_algae                0.003622  0.007179  0.001718  0.005544   \n",
       "bifidobacterium_saguini         0.003457  0.008843  0.002224  0.005884   \n",
       "ochrobactrum_rhizosphaerae      0.004413  0.009027  0.002097  0.007038   \n",
       "sphingomonas_haloaromaticamans  0.004629  0.013291  0.002516  0.007588   \n",
       "\n",
       "                                      AK        AL  ...         YN        YP  \\\n",
       "allobaculum_stercoricanis       0.005794  0.007877  ...   0.001727  0.001648   \n",
       "shewanella_algae                0.005156  0.012491  ...   0.001011  0.001440   \n",
       "bifidobacterium_saguini         0.005065  0.010067  ...   0.000994  0.001298   \n",
       "ochrobactrum_rhizosphaerae      0.004678  0.011873  ...   0.000781  0.001143   \n",
       "sphingomonas_haloaromaticamans  0.003563  0.014646  ...   0.000569  0.001035   \n",
       "\n",
       "                                      YQ        YR        YS        YT  \\\n",
       "allobaculum_stercoricanis       0.001823  0.001773  0.002474  0.002147   \n",
       "shewanella_algae                0.002096  0.002270  0.002069  0.001223   \n",
       "bifidobacterium_saguini         0.001138  0.001713  0.001673  0.001711   \n",
       "ochrobactrum_rhizosphaerae      0.000817  0.001730  0.001412  0.001173   \n",
       "sphingomonas_haloaromaticamans  0.000689  0.002068  0.001160  0.000992   \n",
       "\n",
       "                                      YV        YW        YY   ogt  \n",
       "allobaculum_stercoricanis       0.002305  0.000403  0.001534  37.0  \n",
       "shewanella_algae                0.001472  0.000515  0.000947  28.0  \n",
       "bifidobacterium_saguini         0.002072  0.000453  0.000926  37.0  \n",
       "ochrobactrum_rhizosphaerae      0.001715  0.000378  0.000642  28.0  \n",
       "sphingomonas_haloaromaticamans  0.001508  0.000357  0.000635  30.0  \n",
       "\n",
       "[5 rows x 401 columns]"
      ]
     },
     "execution_count": 69,
     "metadata": {},
     "output_type": "execute_result"
    }
   ],
   "source": [
    "df = pd.read_csv('../data/dimer_updated_with_madin_bowman.csv',index_col=0)\n",
    "df.head(5)"
   ]
  },
  {
   "cell_type": "code",
   "execution_count": 70,
   "metadata": {},
   "outputs": [
    {
     "data": {
      "text/plain": [
       "(472, 401)"
      ]
     },
     "execution_count": 70,
     "metadata": {},
     "output_type": "execute_result"
    }
   ],
   "source": [
    "dfh40 = df[df['ogt']>40]\n",
    "dfh40.shape"
   ]
  },
  {
   "cell_type": "code",
   "execution_count": 71,
   "metadata": {},
   "outputs": [
    {
     "data": {
      "text/plain": [
       "(5548, 401)"
      ]
     },
     "execution_count": 71,
     "metadata": {},
     "output_type": "execute_result"
    }
   ],
   "source": [
    "dfL40 = df[df['ogt']<=40]\n",
    "dfL40.shape"
   ]
  },
  {
   "cell_type": "code",
   "execution_count": 72,
   "metadata": {},
   "outputs": [],
   "source": [
    "dfh40.to_csv('../data/dimer_updated_with_madin_bowman_H40.csv')\n",
    "dfL40.to_csv('../data/dimer_updated_with_madin_bowman_L40.csv')"
   ]
  },
  {
   "cell_type": "code",
   "execution_count": 79,
   "metadata": {},
   "outputs": [],
   "source": [
    "a = np.zeros((2,2),dtype=str)"
   ]
  },
  {
   "cell_type": "code",
   "execution_count": 80,
   "metadata": {},
   "outputs": [
    {
     "data": {
      "text/plain": [
       "array([['', ''],\n",
       "       ['', '']], dtype='<U1')"
      ]
     },
     "execution_count": 80,
     "metadata": {},
     "output_type": "execute_result"
    }
   ],
   "source": [
    "a"
   ]
  },
  {
   "cell_type": "code",
   "execution_count": 81,
   "metadata": {},
   "outputs": [],
   "source": [
    "a[0,:] = ['a','a']\n",
    "a[1,:] = [1,1]"
   ]
  },
  {
   "cell_type": "markdown",
   "metadata": {},
   "source": [
    "### Give more weights for ones with ogt lower than 25 °C"
   ]
  },
  {
   "cell_type": "code",
   "execution_count": 102,
   "metadata": {},
   "outputs": [
    {
     "name": "stdout",
     "output_type": "stream",
     "text": [
      "487 5533\n",
      "0.0001626604012289897 0.00020533880903490762\n",
      "0.0001536237122718236 0.0003080082135523614\n",
      "0.0001445870233146575 0.0004106776180698153\n",
      "0.00013555033435749142 0.0005133470225872691\n",
      "0.0001265136454003253 0.0006160164271047228\n",
      "0.00011747695644315921 0.0007186858316221768\n",
      "0.00010844026748599311 0.0008213552361396307\n",
      "9.9403578528827e-05 0.0009240246406570844\n",
      "9.036688957166092e-05 0.0010266940451745382\n"
     ]
    }
   ],
   "source": [
    "df = pd.read_csv('../data/dimer_updated_with_madin_bowman.csv',index_col=0)\n",
    "num_L = df[df['ogt']<25].shape[0]\n",
    "num_H = df[df['ogt']>=25].shape[0]\n",
    "print(num_L,num_H)\n",
    "for w in np.arange(0.1,0.55,0.05):\n",
    "    w_H = (1-w)/num_H\n",
    "    w_L = w/num_L\n",
    "    print(w_H,w_L)\n",
    "    \n",
    "    dfw = df.copy()\n",
    "    w_col = [w_L if df.loc[ind,'ogt']<25 else w_H for ind in df.index]\n",
    "    dfw['weight'] = w_col\n",
    "    dfw.to_csv('../data/dimer_updated_with_madin_bowman_{0:.2f}_weights.csv'.format(w))"
   ]
  },
  {
   "cell_type": "code",
   "execution_count": 2,
   "metadata": {},
   "outputs": [
    {
     "name": "stdout",
     "output_type": "stream",
     "text": [
      "487 5533\n",
      "9.036688957166094e-05 0.001026694045174538\n",
      "8.133020061449485e-05 0.001129363449691992\n",
      "7.229351165732874e-05 0.0012320328542094457\n",
      "6.325682270016264e-05 0.0013347022587268996\n",
      "5.4220133742996535e-05 0.0014373716632443535\n",
      "4.518344478583043e-05 0.0015400410677618075\n",
      "3.614675582866433e-05 0.0016427104722792614\n",
      "2.7110066871498227e-05 0.0017453798767967151\n",
      "1.8073377914332123e-05 0.001848049281314169\n"
     ]
    }
   ],
   "source": [
    "df = pd.read_csv('../data/dimer_updated_with_madin_bowman.csv',index_col=0)\n",
    "num_L = df[df['ogt']<25].shape[0]\n",
    "num_H = df[df['ogt']>=25].shape[0]\n",
    "print(num_L,num_H)\n",
    "for w in np.arange(0.5,0.95,0.05):\n",
    "    w_H = (1-w)/num_H\n",
    "    w_L = w/num_L\n",
    "    print(w_H,w_L)\n",
    "    \n",
    "    dfw = df.copy()\n",
    "    w_col = [w_L if df.loc[ind,'ogt']<25 else w_H for ind in df.index]\n",
    "    dfw['weight'] = w_col\n",
    "    dfw.to_csv('../data/dimer_updated_with_madin_bowman_{0:.2f}_weights.csv'.format(w))"
   ]
  },
  {
   "cell_type": "code",
   "execution_count": 4,
   "metadata": {},
   "outputs": [
    {
     "name": "stdout",
     "output_type": "stream",
     "text": [
      "487 5533\n",
      "9.036688957166102e-06 0.0019507186858316221\n",
      "1.8073377914332205e-06 0.002032854209445585\n"
     ]
    }
   ],
   "source": [
    "df = pd.read_csv('../data/dimer_updated_with_madin_bowman.csv',index_col=0)\n",
    "num_L = df[df['ogt']<25].shape[0]\n",
    "num_H = df[df['ogt']>=25].shape[0]\n",
    "print(num_L,num_H)\n",
    "for w in [0.95,0.99]:\n",
    "    w_H = (1-w)/num_H\n",
    "    w_L = w/num_L\n",
    "    print(w_H,w_L)\n",
    "    \n",
    "    dfw = df.copy()\n",
    "    w_col = [w_L if df.loc[ind,'ogt']<25 else w_H for ind in df.index]\n",
    "    dfw['weight'] = w_col\n",
    "    dfw.to_csv('../data/dimer_updated_with_madin_bowman_{0:.2f}_weights.csv'.format(w))"
   ]
  },
  {
   "cell_type": "code",
   "execution_count": 104,
   "metadata": {},
   "outputs": [
    {
     "data": {
      "text/html": [
       "<div>\n",
       "<style scoped>\n",
       "    .dataframe tbody tr th:only-of-type {\n",
       "        vertical-align: middle;\n",
       "    }\n",
       "\n",
       "    .dataframe tbody tr th {\n",
       "        vertical-align: top;\n",
       "    }\n",
       "\n",
       "    .dataframe thead th {\n",
       "        text-align: right;\n",
       "    }\n",
       "</style>\n",
       "<table border=\"1\" class=\"dataframe\">\n",
       "  <thead>\n",
       "    <tr style=\"text-align: right;\">\n",
       "      <th></th>\n",
       "      <th>AA</th>\n",
       "      <th>AC</th>\n",
       "      <th>AD</th>\n",
       "      <th>AE</th>\n",
       "      <th>AF</th>\n",
       "      <th>AG</th>\n",
       "      <th>AH</th>\n",
       "      <th>AI</th>\n",
       "      <th>AK</th>\n",
       "      <th>AL</th>\n",
       "      <th>...</th>\n",
       "      <th>YP</th>\n",
       "      <th>YQ</th>\n",
       "      <th>YR</th>\n",
       "      <th>YS</th>\n",
       "      <th>YT</th>\n",
       "      <th>YV</th>\n",
       "      <th>YW</th>\n",
       "      <th>YY</th>\n",
       "      <th>ogt</th>\n",
       "      <th>weight</th>\n",
       "    </tr>\n",
       "  </thead>\n",
       "  <tbody>\n",
       "    <tr>\n",
       "      <th>allobaculum_stercoricanis</th>\n",
       "      <td>0.005367</td>\n",
       "      <td>0.001105</td>\n",
       "      <td>0.003809</td>\n",
       "      <td>0.003263</td>\n",
       "      <td>0.002990</td>\n",
       "      <td>0.004836</td>\n",
       "      <td>0.001432</td>\n",
       "      <td>0.006074</td>\n",
       "      <td>0.005794</td>\n",
       "      <td>0.007877</td>\n",
       "      <td>...</td>\n",
       "      <td>0.001648</td>\n",
       "      <td>0.001823</td>\n",
       "      <td>0.001773</td>\n",
       "      <td>0.002474</td>\n",
       "      <td>0.002147</td>\n",
       "      <td>0.002305</td>\n",
       "      <td>0.000403</td>\n",
       "      <td>0.001534</td>\n",
       "      <td>37.0</td>\n",
       "      <td>0.00009</td>\n",
       "    </tr>\n",
       "    <tr>\n",
       "      <th>shewanella_algae</th>\n",
       "      <td>0.010752</td>\n",
       "      <td>0.001212</td>\n",
       "      <td>0.005580</td>\n",
       "      <td>0.007041</td>\n",
       "      <td>0.003622</td>\n",
       "      <td>0.007179</td>\n",
       "      <td>0.001718</td>\n",
       "      <td>0.005544</td>\n",
       "      <td>0.005156</td>\n",
       "      <td>0.012491</td>\n",
       "      <td>...</td>\n",
       "      <td>0.001440</td>\n",
       "      <td>0.002096</td>\n",
       "      <td>0.002270</td>\n",
       "      <td>0.002069</td>\n",
       "      <td>0.001223</td>\n",
       "      <td>0.001472</td>\n",
       "      <td>0.000515</td>\n",
       "      <td>0.000947</td>\n",
       "      <td>28.0</td>\n",
       "      <td>0.00009</td>\n",
       "    </tr>\n",
       "    <tr>\n",
       "      <th>bifidobacterium_saguini</th>\n",
       "      <td>0.013873</td>\n",
       "      <td>0.001048</td>\n",
       "      <td>0.007266</td>\n",
       "      <td>0.006288</td>\n",
       "      <td>0.003457</td>\n",
       "      <td>0.008843</td>\n",
       "      <td>0.002224</td>\n",
       "      <td>0.005884</td>\n",
       "      <td>0.005065</td>\n",
       "      <td>0.010067</td>\n",
       "      <td>...</td>\n",
       "      <td>0.001298</td>\n",
       "      <td>0.001138</td>\n",
       "      <td>0.001713</td>\n",
       "      <td>0.001673</td>\n",
       "      <td>0.001711</td>\n",
       "      <td>0.002072</td>\n",
       "      <td>0.000453</td>\n",
       "      <td>0.000926</td>\n",
       "      <td>37.0</td>\n",
       "      <td>0.00009</td>\n",
       "    </tr>\n",
       "    <tr>\n",
       "      <th>ochrobactrum_rhizosphaerae</th>\n",
       "      <td>0.013460</td>\n",
       "      <td>0.000835</td>\n",
       "      <td>0.006199</td>\n",
       "      <td>0.006978</td>\n",
       "      <td>0.004413</td>\n",
       "      <td>0.009027</td>\n",
       "      <td>0.002097</td>\n",
       "      <td>0.007038</td>\n",
       "      <td>0.004678</td>\n",
       "      <td>0.011873</td>\n",
       "      <td>...</td>\n",
       "      <td>0.001143</td>\n",
       "      <td>0.000817</td>\n",
       "      <td>0.001730</td>\n",
       "      <td>0.001412</td>\n",
       "      <td>0.001173</td>\n",
       "      <td>0.001715</td>\n",
       "      <td>0.000378</td>\n",
       "      <td>0.000642</td>\n",
       "      <td>28.0</td>\n",
       "      <td>0.00009</td>\n",
       "    </tr>\n",
       "    <tr>\n",
       "      <th>sphingomonas_haloaromaticamans</th>\n",
       "      <td>0.022561</td>\n",
       "      <td>0.001093</td>\n",
       "      <td>0.008958</td>\n",
       "      <td>0.008309</td>\n",
       "      <td>0.004629</td>\n",
       "      <td>0.013291</td>\n",
       "      <td>0.002516</td>\n",
       "      <td>0.007588</td>\n",
       "      <td>0.003563</td>\n",
       "      <td>0.014646</td>\n",
       "      <td>...</td>\n",
       "      <td>0.001035</td>\n",
       "      <td>0.000689</td>\n",
       "      <td>0.002068</td>\n",
       "      <td>0.001160</td>\n",
       "      <td>0.000992</td>\n",
       "      <td>0.001508</td>\n",
       "      <td>0.000357</td>\n",
       "      <td>0.000635</td>\n",
       "      <td>30.0</td>\n",
       "      <td>0.00009</td>\n",
       "    </tr>\n",
       "  </tbody>\n",
       "</table>\n",
       "<p>5 rows × 402 columns</p>\n",
       "</div>"
      ],
      "text/plain": [
       "                                      AA        AC        AD        AE  \\\n",
       "allobaculum_stercoricanis       0.005367  0.001105  0.003809  0.003263   \n",
       "shewanella_algae                0.010752  0.001212  0.005580  0.007041   \n",
       "bifidobacterium_saguini         0.013873  0.001048  0.007266  0.006288   \n",
       "ochrobactrum_rhizosphaerae      0.013460  0.000835  0.006199  0.006978   \n",
       "sphingomonas_haloaromaticamans  0.022561  0.001093  0.008958  0.008309   \n",
       "\n",
       "                                      AF        AG        AH        AI  \\\n",
       "allobaculum_stercoricanis       0.002990  0.004836  0.001432  0.006074   \n",
       "shewanella_algae                0.003622  0.007179  0.001718  0.005544   \n",
       "bifidobacterium_saguini         0.003457  0.008843  0.002224  0.005884   \n",
       "ochrobactrum_rhizosphaerae      0.004413  0.009027  0.002097  0.007038   \n",
       "sphingomonas_haloaromaticamans  0.004629  0.013291  0.002516  0.007588   \n",
       "\n",
       "                                      AK        AL   ...           YP  \\\n",
       "allobaculum_stercoricanis       0.005794  0.007877   ...     0.001648   \n",
       "shewanella_algae                0.005156  0.012491   ...     0.001440   \n",
       "bifidobacterium_saguini         0.005065  0.010067   ...     0.001298   \n",
       "ochrobactrum_rhizosphaerae      0.004678  0.011873   ...     0.001143   \n",
       "sphingomonas_haloaromaticamans  0.003563  0.014646   ...     0.001035   \n",
       "\n",
       "                                      YQ        YR        YS        YT  \\\n",
       "allobaculum_stercoricanis       0.001823  0.001773  0.002474  0.002147   \n",
       "shewanella_algae                0.002096  0.002270  0.002069  0.001223   \n",
       "bifidobacterium_saguini         0.001138  0.001713  0.001673  0.001711   \n",
       "ochrobactrum_rhizosphaerae      0.000817  0.001730  0.001412  0.001173   \n",
       "sphingomonas_haloaromaticamans  0.000689  0.002068  0.001160  0.000992   \n",
       "\n",
       "                                      YV        YW        YY   ogt   weight  \n",
       "allobaculum_stercoricanis       0.002305  0.000403  0.001534  37.0  0.00009  \n",
       "shewanella_algae                0.001472  0.000515  0.000947  28.0  0.00009  \n",
       "bifidobacterium_saguini         0.002072  0.000453  0.000926  37.0  0.00009  \n",
       "ochrobactrum_rhizosphaerae      0.001715  0.000378  0.000642  28.0  0.00009  \n",
       "sphingomonas_haloaromaticamans  0.001508  0.000357  0.000635  30.0  0.00009  \n",
       "\n",
       "[5 rows x 402 columns]"
      ]
     },
     "execution_count": 104,
     "metadata": {},
     "output_type": "execute_result"
    }
   ],
   "source": [
    "dfw.head(5)"
   ]
  },
  {
   "cell_type": "code",
   "execution_count": 3,
   "metadata": {},
   "outputs": [
    {
     "name": "stdout",
     "output_type": "stream",
     "text": [
      "../data/dimer_updated_with_madin_bowman_0.10_weights.csv\r\n",
      "../data/dimer_updated_with_madin_bowman_0.15_weights.csv\r\n",
      "../data/dimer_updated_with_madin_bowman_0.20_weights.csv\r\n",
      "../data/dimer_updated_with_madin_bowman_0.25_weights.csv\r\n",
      "../data/dimer_updated_with_madin_bowman_0.30_weights.csv\r\n",
      "../data/dimer_updated_with_madin_bowman_0.35_weights.csv\r\n",
      "../data/dimer_updated_with_madin_bowman_0.40_weights.csv\r\n",
      "../data/dimer_updated_with_madin_bowman_0.45_weights.csv\r\n",
      "../data/dimer_updated_with_madin_bowman_0.50_weights.csv\r\n",
      "../data/dimer_updated_with_madin_bowman_0.55_weights.csv\r\n",
      "../data/dimer_updated_with_madin_bowman_0.60_weights.csv\r\n",
      "../data/dimer_updated_with_madin_bowman_0.65_weights.csv\r\n",
      "../data/dimer_updated_with_madin_bowman_0.70_weights.csv\r\n",
      "../data/dimer_updated_with_madin_bowman_0.75_weights.csv\r\n",
      "../data/dimer_updated_with_madin_bowman_0.80_weights.csv\r\n",
      "../data/dimer_updated_with_madin_bowman_0.85_weights.csv\r\n",
      "../data/dimer_updated_with_madin_bowman_0.90_weights.csv\r\n"
     ]
    }
   ],
   "source": [
    "!ls ../data/dimer_updated_with_madin_bowman_0*"
   ]
  },
  {
   "cell_type": "code",
   "execution_count": null,
   "metadata": {},
   "outputs": [],
   "source": [
    "!rm ../data/dimer_updated_with_madin_bowman_0.00*"
   ]
  },
  {
   "cell_type": "code",
   "execution_count": 2,
   "metadata": {},
   "outputs": [
    {
     "data": {
      "text/plain": [
       "6020"
      ]
     },
     "execution_count": 2,
     "metadata": {},
     "output_type": "execute_result"
    }
   ],
   "source": [
    "5533+487"
   ]
  },
  {
   "cell_type": "markdown",
   "metadata": {},
   "source": [
    "#### Splite 25°C"
   ]
  },
  {
   "cell_type": "code",
   "execution_count": null,
   "metadata": {},
   "outputs": [],
   "source": [
    "df = pd.read_csv('../data/dimer_updated_with_madin_bowman.csv',index_col=0)\n",
    "dfh25 = df[df['ogt']>=25]\n",
    "dfL25 = df[df['ogt']<25]\n",
    "\n",
    "print(dfh25.shape,dfL25.shape)\n",
    "dfh25.to_csv('../data/dimer_updated_with_madin_bowman_H25.csv')\n",
    "dfL25.to_csv('../data/dimer_updated_with_madin_bowman_L25.csv')"
   ]
  }
 ],
 "metadata": {
  "kernelspec": {
   "display_name": "Python 3",
   "language": "python",
   "name": "python3"
  },
  "language_info": {
   "codemirror_mode": {
    "name": "ipython",
    "version": 3
   },
   "file_extension": ".py",
   "mimetype": "text/x-python",
   "name": "python",
   "nbconvert_exporter": "python",
   "pygments_lexer": "ipython3",
   "version": "3.6.7"
  }
 },
 "nbformat": 4,
 "nbformat_minor": 2
}
